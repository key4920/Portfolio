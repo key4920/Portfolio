{
 "cells": [
  {
   "cell_type": "code",
   "execution_count": 175,
   "metadata": {},
   "outputs": [],
   "source": [
    "## 파이썬 글씨체 설정\n",
    "import pandas as pd\n",
    "import datetime\n",
    "import matplotlib\n",
    "import matplotlib.pyplot as plt\n",
    "import seaborn as sns\n",
    "import numpy as np\n",
    "\n",
    "%matplotlib inline\n",
    "from matplotlib import font_manager\n",
    "\n",
    "font_name = font_manager.FontProperties(fname=\"/Library/Fonts/AppleGothic.ttf\").get_name()\n",
    "\n",
    "plt.rcParams[\"font.family\"] = font_name\n",
    "plt.rcParams['axes.unicode_minus'] = False\n"
   ]
  },
  {
   "cell_type": "markdown",
   "metadata": {},
   "source": [
    "## 원본에 딕셔너리붙인것 클래스 컬럼 생성"
   ]
  },
  {
   "cell_type": "code",
   "execution_count": 96,
   "metadata": {},
   "outputs": [],
   "source": [
    "df = pd.read_csv('./data2/dict_anal_rmnan_2402.csv')"
   ]
  },
  {
   "cell_type": "code",
   "execution_count": 97,
   "metadata": {},
   "outputs": [],
   "source": [
    "col_name = df.columns[-13:].tolist()"
   ]
  },
  {
   "cell_type": "code",
   "execution_count": 98,
   "metadata": {},
   "outputs": [],
   "source": [
    "col_name.append('nan')"
   ]
  },
  {
   "cell_type": "code",
   "execution_count": 99,
   "metadata": {},
   "outputs": [
    {
     "data": {
      "text/plain": [
       "'nan'"
      ]
     },
     "execution_count": 99,
     "metadata": {},
     "output_type": "execute_result"
    }
   ],
   "source": [
    "col_name[-1]"
   ]
  },
  {
   "cell_type": "code",
   "execution_count": 100,
   "metadata": {},
   "outputs": [],
   "source": [
    "classes = []\n",
    "for row in range(len(df)):\n",
    "    \n",
    "    m = df.iloc[row,-13:].max()\n",
    "    \n",
    "    if m == 0:\n",
    "        max_index = col_name[-1]\n",
    "    else:\n",
    "        for i,j in enumerate(df.iloc[row,-13:]):\n",
    "            if j == m:\n",
    "                max_index = col_name[i]\n",
    "        \n",
    "    classes.append(max_index)"
   ]
  },
  {
   "cell_type": "code",
   "execution_count": 101,
   "metadata": {},
   "outputs": [
    {
     "data": {
      "text/plain": [
       "38892"
      ]
     },
     "execution_count": 101,
     "metadata": {},
     "output_type": "execute_result"
    }
   ],
   "source": [
    "len(classes)"
   ]
  },
  {
   "cell_type": "code",
   "execution_count": 102,
   "metadata": {},
   "outputs": [],
   "source": [
    "test = df\n",
    "\n",
    "test['classes'] = classes"
   ]
  },
  {
   "cell_type": "code",
   "execution_count": 103,
   "metadata": {},
   "outputs": [
    {
     "data": {
      "text/plain": [
       "votes_before    11511\n",
       "votes_sat       10881\n",
       "nan              7108\n",
       "votes_delay      4506\n",
       "votes_part       1329\n",
       "votes_ret         873\n",
       "votes_qual        640\n",
       "votes_od          504\n",
       "votes_etc         494\n",
       "votes_bro         316\n",
       "votes_wrong       303\n",
       "votes_ss          282\n",
       "votes_naa          96\n",
       "votes_pack         49\n",
       "Name: classes, dtype: int64"
      ]
     },
     "execution_count": 103,
     "metadata": {},
     "output_type": "execute_result"
    }
   ],
   "source": [
    "test['classes'].value_counts()"
   ]
  },
  {
   "cell_type": "code",
   "execution_count": 104,
   "metadata": {},
   "outputs": [],
   "source": [
    "test.to_csv('./data2/dict_anal_class_2402.csv')"
   ]
  },
  {
   "cell_type": "code",
   "execution_count": null,
   "metadata": {},
   "outputs": [],
   "source": []
  },
  {
   "cell_type": "code",
   "execution_count": null,
   "metadata": {},
   "outputs": [],
   "source": [
    "'del_period_deadline_yn'\n",
    "'del_period'\n",
    "'del_period_psy'\n",
    "'distance'\n",
    "'order_product_value'\n",
    "'freight_value_proportion'\n",
    "'order_day'\n",
    "'installments_yn'"
   ]
  },
  {
   "cell_type": "code",
   "execution_count": 55,
   "metadata": {},
   "outputs": [
    {
     "ename": "ModuleNotFoundError",
     "evalue": "No module named 'keras'",
     "output_type": "error",
     "traceback": [
      "\u001b[0;31m---------------------------------------------------------------------------\u001b[0m",
      "\u001b[0;31mModuleNotFoundError\u001b[0m                       Traceback (most recent call last)",
      "\u001b[0;32m<ipython-input-55-6c8913b31013>\u001b[0m in \u001b[0;36m<module>\u001b[0;34m\u001b[0m\n\u001b[1;32m      1\u001b[0m \u001b[0;32mimport\u001b[0m \u001b[0mnumpy\u001b[0m \u001b[0;32mas\u001b[0m \u001b[0mnp\u001b[0m\u001b[0;34m\u001b[0m\u001b[0;34m\u001b[0m\u001b[0m\n\u001b[0;32m----> 2\u001b[0;31m \u001b[0;32mfrom\u001b[0m \u001b[0mkeras\u001b[0m\u001b[0;34m.\u001b[0m\u001b[0mmodels\u001b[0m \u001b[0;32mimport\u001b[0m \u001b[0mSequential\u001b[0m\u001b[0;34m\u001b[0m\u001b[0;34m\u001b[0m\u001b[0m\n\u001b[0m\u001b[1;32m      3\u001b[0m \u001b[0;32mfrom\u001b[0m \u001b[0mkeras\u001b[0m\u001b[0;34m.\u001b[0m\u001b[0mlayers\u001b[0m \u001b[0;32mimport\u001b[0m \u001b[0mDense\u001b[0m\u001b[0;34m\u001b[0m\u001b[0;34m\u001b[0m\u001b[0m\n\u001b[1;32m      4\u001b[0m \u001b[0;32mfrom\u001b[0m \u001b[0mkeras\u001b[0m\u001b[0;34m.\u001b[0m\u001b[0mutils\u001b[0m \u001b[0;32mimport\u001b[0m \u001b[0mto_categorical\u001b[0m\u001b[0;34m\u001b[0m\u001b[0;34m\u001b[0m\u001b[0m\n\u001b[1;32m      5\u001b[0m \u001b[0;32mimport\u001b[0m \u001b[0mrandom\u001b[0m\u001b[0;34m\u001b[0m\u001b[0;34m\u001b[0m\u001b[0m\n",
      "\u001b[0;31mModuleNotFoundError\u001b[0m: No module named 'keras'"
     ]
    }
   ],
   "source": [
    "import numpy as np\n",
    "from keras.models import Sequential\n",
    "from keras.layers import Dense\n",
    "from keras.utils import to_categorical\n",
    "import random"
   ]
  },
  {
   "cell_type": "code",
   "execution_count": 60,
   "metadata": {},
   "outputs": [
    {
     "data": {
      "text/plain": [
       "'votes_sat'"
      ]
     },
     "execution_count": 60,
     "metadata": {},
     "output_type": "execute_result"
    }
   ],
   "source": [
    "test['classes'][0]"
   ]
  },
  {
   "cell_type": "code",
   "execution_count": 90,
   "metadata": {},
   "outputs": [
    {
     "data": {
      "text/plain": [
       "votes_before    11511\n",
       "votes_sat       10881\n",
       "nan              7108\n",
       "votes_delay      4506\n",
       "votes_part       1329\n",
       "votes_ret         873\n",
       "votes_qual        640\n",
       "votes_od          504\n",
       "votes_etc         494\n",
       "votes_bro         316\n",
       "votes_wrong       303\n",
       "votes_ss          282\n",
       "votes_naa          96\n",
       "votes_pack         49\n",
       "Name: classes, dtype: int64"
      ]
     },
     "execution_count": 90,
     "metadata": {},
     "output_type": "execute_result"
    }
   ],
   "source": [
    "test['classes'].value_counts()"
   ]
  },
  {
   "cell_type": "code",
   "execution_count": 91,
   "metadata": {},
   "outputs": [],
   "source": [
    "tot_class = []\n",
    "for i in test['classes']:\n",
    "    if i =='votes_ss':\n",
    "        tot_class.append('nan')\n",
    "    elif i =='votes_etc':\n",
    "        tot_class.append('nan')\n",
    "    elif i == 'votes_naa':\n",
    "        tot_class.append('nan')\n",
    "    elif i == 'votes_pack':\n",
    "        tot_class.append('votes_bro')\n",
    "        \n",
    "    else:\n",
    "        tot_class.append(i)\n",
    "        "
   ]
  },
  {
   "cell_type": "code",
   "execution_count": 77,
   "metadata": {},
   "outputs": [],
   "source": [
    "test2 = test"
   ]
  },
  {
   "cell_type": "code",
   "execution_count": 92,
   "metadata": {},
   "outputs": [],
   "source": [
    "test['classes'] = tot_class"
   ]
  },
  {
   "cell_type": "code",
   "execution_count": 93,
   "metadata": {},
   "outputs": [
    {
     "name": "stdout",
     "output_type": "stream",
     "text": [
      "<class 'pandas.core.frame.DataFrame'>\n",
      "RangeIndex: 38892 entries, 0 to 38891\n",
      "Data columns (total 78 columns):\n",
      "order_id                          38892 non-null object\n",
      "order_status                      38892 non-null object\n",
      "order_products_value              38892 non-null float64\n",
      "order_freight_value               38892 non-null float64\n",
      "order_items_qty                   38892 non-null int64\n",
      "order_sellers_qty                 38892 non-null int64\n",
      "order_purchase_timestamp          38892 non-null object\n",
      "order_aproved_at                  38883 non-null object\n",
      "order_estimated_delivery_date     38892 non-null object\n",
      "order_delivered_customer_date     37366 non-null object\n",
      "product_id                        38892 non-null object\n",
      "product_category_name_english     38892 non-null object\n",
      "product_name_length               38892 non-null int64\n",
      "product_description_length        38892 non-null int64\n",
      "product_photos_qty                38892 non-null int64\n",
      "product_weight_g                  38882 non-null float64\n",
      "product_length_cm                 38882 non-null float64\n",
      "product_height_cm                 38882 non-null float64\n",
      "product_width_cm                  38882 non-null float64\n",
      "customer_unique_id                38892 non-null object\n",
      "customer_id                       38892 non-null object\n",
      "customer_state                    38892 non-null object\n",
      "customer_city                     38892 non-null object\n",
      "customer_zip_code_prefix          38892 non-null int64\n",
      "seller_id                         38882 non-null object\n",
      "seller_state                      38882 non-null object\n",
      "seller_city                       38882 non-null object\n",
      "seller_zip_code_prefix            38882 non-null float64\n",
      "sequential                        38892 non-null int64\n",
      "review_id                         38892 non-null object\n",
      "review_score                      38892 non-null int64\n",
      "review_comment_title              6634 non-null object\n",
      "review_comment_message            38892 non-null object\n",
      "review_creation_date              38892 non-null object\n",
      "review_answer_timestamp           38892 non-null object\n",
      "pn_review_score                   38892 non-null object\n",
      "del_period                        37366 non-null float64\n",
      "del_period_psy                    37366 non-null float64\n",
      "del_period_deadline_yn            38892 non-null bool\n",
      "payment_voucher_yn                38892 non-null bool\n",
      "freight_value_proportion          38892 non-null float64\n",
      "order_time_6                      38892 non-null object\n",
      "order_day                         38892 non-null object\n",
      "order_week_day_end                38892 non-null bool\n",
      "review_ans_time_6                 38892 non-null object\n",
      "review_ans_day                    38892 non-null object\n",
      "review_ans_w_d_e                  38892 non-null bool\n",
      "installments_yn                   38892 non-null bool\n",
      "sim_installments_mean             38892 non-null float64\n",
      "wgt_installments_mean             38276 non-null float64\n",
      "review_ans_period                 38892 non-null float64\n",
      "review_comment_yn                 38892 non-null bool\n",
      "seller_response_time              38883 non-null float64\n",
      "cus_lat                           38892 non-null float64\n",
      "cus_lng                           38892 non-null float64\n",
      "sel_lat                           38882 non-null float64\n",
      "sel_lng                           38882 non-null float64\n",
      "order_product_value               38892 non-null float64\n",
      "review_length                     38892 non-null float64\n",
      "review_comment_title_english      6633 non-null object\n",
      "review_comment_message_english    38892 non-null object\n",
      "order_day_time_6                  38892 non-null object\n",
      "distance                          38882 non-null float64\n",
      "order_product_value_range         38892 non-null object\n",
      "votes_sat                         38892 non-null int64\n",
      "votes_qual                        38892 non-null int64\n",
      "votes_bro                         38892 non-null int64\n",
      "votes_pack                        38892 non-null int64\n",
      "votes_before                      38892 non-null int64\n",
      "votes_delay                       38892 non-null int64\n",
      "votes_part                        38892 non-null int64\n",
      "votes_wrong                       38892 non-null int64\n",
      "votes_ret                         38892 non-null int64\n",
      "votes_naa                         38892 non-null int64\n",
      "votes_ss                          38892 non-null int64\n",
      "votes_od                          38892 non-null int64\n",
      "votes_etc                         38892 non-null int64\n",
      "classes                           38892 non-null object\n",
      "dtypes: bool(6), float64(21), int64(21), object(30)\n",
      "memory usage: 21.6+ MB\n"
     ]
    }
   ],
   "source": [
    "test.info()"
   ]
  },
  {
   "cell_type": "code",
   "execution_count": 94,
   "metadata": {},
   "outputs": [
    {
     "data": {
      "text/plain": [
       "votes_before    11511\n",
       "votes_sat       10881\n",
       "nan              7980\n",
       "votes_delay      4506\n",
       "votes_part       1329\n",
       "votes_ret         873\n",
       "votes_qual        640\n",
       "votes_od          504\n",
       "votes_bro         365\n",
       "votes_wrong       303\n",
       "Name: classes, dtype: int64"
      ]
     },
     "execution_count": 94,
     "metadata": {},
     "output_type": "execute_result"
    }
   ],
   "source": [
    "\n",
    "test['classes'].value_counts()"
   ]
  },
  {
   "cell_type": "code",
   "execution_count": 105,
   "metadata": {},
   "outputs": [],
   "source": [
    "### 테스트 결과 불러오기 \n",
    "results = pd.read_csv('test_df.csv')"
   ]
  },
  {
   "cell_type": "code",
   "execution_count": 106,
   "metadata": {},
   "outputs": [
    {
     "data": {
      "text/html": [
       "<div>\n",
       "<style scoped>\n",
       "    .dataframe tbody tr th:only-of-type {\n",
       "        vertical-align: middle;\n",
       "    }\n",
       "\n",
       "    .dataframe tbody tr th {\n",
       "        vertical-align: top;\n",
       "    }\n",
       "\n",
       "    .dataframe thead th {\n",
       "        text-align: right;\n",
       "    }\n",
       "</style>\n",
       "<table border=\"1\" class=\"dataframe\">\n",
       "  <thead>\n",
       "    <tr style=\"text-align: right;\">\n",
       "      <th></th>\n",
       "      <th>Unnamed: 0</th>\n",
       "      <th>pn_review_score</th>\n",
       "      <th>del_period_deadline_yn</th>\n",
       "      <th>del_period</th>\n",
       "      <th>del_period_psy</th>\n",
       "      <th>distance</th>\n",
       "      <th>order_product_value_range</th>\n",
       "      <th>freight_value_proportion</th>\n",
       "      <th>order_day</th>\n",
       "      <th>installments_yn</th>\n",
       "      <th>...</th>\n",
       "      <th>votes_delay</th>\n",
       "      <th>votes_part</th>\n",
       "      <th>votes_wrong</th>\n",
       "      <th>votes_ret</th>\n",
       "      <th>votes_naa</th>\n",
       "      <th>votes_ss</th>\n",
       "      <th>votes_od</th>\n",
       "      <th>votes_etc</th>\n",
       "      <th>classes</th>\n",
       "      <th>pred</th>\n",
       "    </tr>\n",
       "  </thead>\n",
       "  <tbody>\n",
       "    <tr>\n",
       "      <th>0</th>\n",
       "      <td>3</td>\n",
       "      <td>Positive</td>\n",
       "      <td>True</td>\n",
       "      <td>11.067474</td>\n",
       "      <td>5.278568</td>\n",
       "      <td>1067.626050</td>\n",
       "      <td>v5</td>\n",
       "      <td>0.033490</td>\n",
       "      <td>Saturday</td>\n",
       "      <td>True</td>\n",
       "      <td>...</td>\n",
       "      <td>0</td>\n",
       "      <td>0</td>\n",
       "      <td>0</td>\n",
       "      <td>0</td>\n",
       "      <td>0</td>\n",
       "      <td>0</td>\n",
       "      <td>0</td>\n",
       "      <td>0</td>\n",
       "      <td>votes_before</td>\n",
       "      <td>votes_before</td>\n",
       "    </tr>\n",
       "    <tr>\n",
       "      <th>1</th>\n",
       "      <td>4</td>\n",
       "      <td>Positive</td>\n",
       "      <td>True</td>\n",
       "      <td>4.976355</td>\n",
       "      <td>10.172140</td>\n",
       "      <td>15.062947</td>\n",
       "      <td>v1</td>\n",
       "      <td>0.324302</td>\n",
       "      <td>Wednesday</td>\n",
       "      <td>True</td>\n",
       "      <td>...</td>\n",
       "      <td>0</td>\n",
       "      <td>0</td>\n",
       "      <td>0</td>\n",
       "      <td>0</td>\n",
       "      <td>0</td>\n",
       "      <td>0</td>\n",
       "      <td>0</td>\n",
       "      <td>0</td>\n",
       "      <td>NaN</td>\n",
       "      <td>NaN</td>\n",
       "    </tr>\n",
       "    <tr>\n",
       "      <th>2</th>\n",
       "      <td>6</td>\n",
       "      <td>Positive</td>\n",
       "      <td>True</td>\n",
       "      <td>12.073198</td>\n",
       "      <td>19.361432</td>\n",
       "      <td>1208.527186</td>\n",
       "      <td>v2</td>\n",
       "      <td>0.491643</td>\n",
       "      <td>Friday</td>\n",
       "      <td>True</td>\n",
       "      <td>...</td>\n",
       "      <td>0</td>\n",
       "      <td>0</td>\n",
       "      <td>0</td>\n",
       "      <td>0</td>\n",
       "      <td>0</td>\n",
       "      <td>0</td>\n",
       "      <td>0</td>\n",
       "      <td>0</td>\n",
       "      <td>votes_sat</td>\n",
       "      <td>votes_sat</td>\n",
       "    </tr>\n",
       "    <tr>\n",
       "      <th>3</th>\n",
       "      <td>8</td>\n",
       "      <td>Negative</td>\n",
       "      <td>True</td>\n",
       "      <td>7.968119</td>\n",
       "      <td>15.499994</td>\n",
       "      <td>915.431181</td>\n",
       "      <td>v2</td>\n",
       "      <td>0.235000</td>\n",
       "      <td>Monday</td>\n",
       "      <td>True</td>\n",
       "      <td>...</td>\n",
       "      <td>0</td>\n",
       "      <td>0</td>\n",
       "      <td>0</td>\n",
       "      <td>0</td>\n",
       "      <td>0</td>\n",
       "      <td>0</td>\n",
       "      <td>0</td>\n",
       "      <td>0</td>\n",
       "      <td>votes_sat</td>\n",
       "      <td>votes_sat</td>\n",
       "    </tr>\n",
       "    <tr>\n",
       "      <th>4</th>\n",
       "      <td>11</td>\n",
       "      <td>Positive</td>\n",
       "      <td>True</td>\n",
       "      <td>7.608074</td>\n",
       "      <td>15.461660</td>\n",
       "      <td>872.362415</td>\n",
       "      <td>v4</td>\n",
       "      <td>0.088677</td>\n",
       "      <td>Tuesday</td>\n",
       "      <td>False</td>\n",
       "      <td>...</td>\n",
       "      <td>0</td>\n",
       "      <td>0</td>\n",
       "      <td>0</td>\n",
       "      <td>0</td>\n",
       "      <td>0</td>\n",
       "      <td>0</td>\n",
       "      <td>0</td>\n",
       "      <td>0</td>\n",
       "      <td>votes_before</td>\n",
       "      <td>votes_before</td>\n",
       "    </tr>\n",
       "  </tbody>\n",
       "</table>\n",
       "<p>5 rows × 25 columns</p>\n",
       "</div>"
      ],
      "text/plain": [
       "   Unnamed: 0 pn_review_score  del_period_deadline_yn  del_period  \\\n",
       "0           3        Positive                    True   11.067474   \n",
       "1           4        Positive                    True    4.976355   \n",
       "2           6        Positive                    True   12.073198   \n",
       "3           8        Negative                    True    7.968119   \n",
       "4          11        Positive                    True    7.608074   \n",
       "\n",
       "   del_period_psy     distance order_product_value_range  \\\n",
       "0        5.278568  1067.626050                        v5   \n",
       "1       10.172140    15.062947                        v1   \n",
       "2       19.361432  1208.527186                        v2   \n",
       "3       15.499994   915.431181                        v2   \n",
       "4       15.461660   872.362415                        v4   \n",
       "\n",
       "   freight_value_proportion  order_day  installments_yn      ...       \\\n",
       "0                  0.033490   Saturday             True      ...        \n",
       "1                  0.324302  Wednesday             True      ...        \n",
       "2                  0.491643     Friday             True      ...        \n",
       "3                  0.235000     Monday             True      ...        \n",
       "4                  0.088677    Tuesday            False      ...        \n",
       "\n",
       "   votes_delay  votes_part  votes_wrong  votes_ret  votes_naa  votes_ss  \\\n",
       "0            0           0            0          0          0         0   \n",
       "1            0           0            0          0          0         0   \n",
       "2            0           0            0          0          0         0   \n",
       "3            0           0            0          0          0         0   \n",
       "4            0           0            0          0          0         0   \n",
       "\n",
       "   votes_od  votes_etc       classes          pred  \n",
       "0         0          0  votes_before  votes_before  \n",
       "1         0          0           NaN           NaN  \n",
       "2         0          0     votes_sat     votes_sat  \n",
       "3         0          0     votes_sat     votes_sat  \n",
       "4         0          0  votes_before  votes_before  \n",
       "\n",
       "[5 rows x 25 columns]"
      ]
     },
     "execution_count": 106,
     "metadata": {},
     "output_type": "execute_result"
    }
   ],
   "source": [
    "results.head()"
   ]
  },
  {
   "cell_type": "code",
   "execution_count": 107,
   "metadata": {},
   "outputs": [
    {
     "data": {
      "text/html": [
       "<div>\n",
       "<style scoped>\n",
       "    .dataframe tbody tr th:only-of-type {\n",
       "        vertical-align: middle;\n",
       "    }\n",
       "\n",
       "    .dataframe tbody tr th {\n",
       "        vertical-align: top;\n",
       "    }\n",
       "\n",
       "    .dataframe thead th {\n",
       "        text-align: right;\n",
       "    }\n",
       "</style>\n",
       "<table border=\"1\" class=\"dataframe\">\n",
       "  <thead>\n",
       "    <tr style=\"text-align: right;\">\n",
       "      <th></th>\n",
       "      <th>pn_review_score</th>\n",
       "      <th>pred</th>\n",
       "    </tr>\n",
       "  </thead>\n",
       "  <tbody>\n",
       "    <tr>\n",
       "      <th>0</th>\n",
       "      <td>Positive</td>\n",
       "      <td>votes_before</td>\n",
       "    </tr>\n",
       "    <tr>\n",
       "      <th>1</th>\n",
       "      <td>Positive</td>\n",
       "      <td>NaN</td>\n",
       "    </tr>\n",
       "    <tr>\n",
       "      <th>2</th>\n",
       "      <td>Positive</td>\n",
       "      <td>votes_sat</td>\n",
       "    </tr>\n",
       "    <tr>\n",
       "      <th>3</th>\n",
       "      <td>Negative</td>\n",
       "      <td>votes_sat</td>\n",
       "    </tr>\n",
       "    <tr>\n",
       "      <th>4</th>\n",
       "      <td>Positive</td>\n",
       "      <td>votes_before</td>\n",
       "    </tr>\n",
       "  </tbody>\n",
       "</table>\n",
       "</div>"
      ],
      "text/plain": [
       "  pn_review_score          pred\n",
       "0        Positive  votes_before\n",
       "1        Positive           NaN\n",
       "2        Positive     votes_sat\n",
       "3        Negative     votes_sat\n",
       "4        Positive  votes_before"
      ]
     },
     "execution_count": 107,
     "metadata": {},
     "output_type": "execute_result"
    }
   ],
   "source": [
    "results[['pn_review_score','pred']].head()"
   ]
  },
  {
   "cell_type": "code",
   "execution_count": 108,
   "metadata": {},
   "outputs": [
    {
     "data": {
      "text/plain": [
       "votes_sat       3017\n",
       "votes_before    3010\n",
       "votes_delay      145\n",
       "votes_od          51\n",
       "votes_part        47\n",
       "votes_ret         28\n",
       "votes_qual        23\n",
       "votes_bro         20\n",
       "votes_etc         15\n",
       "votes_wrong        8\n",
       "votes_ss           5\n",
       "votes_naa          5\n",
       "votes_pack         1\n",
       "Name: pred, dtype: int64"
      ]
     },
     "execution_count": 108,
     "metadata": {},
     "output_type": "execute_result"
    }
   ],
   "source": [
    "results[results['pn_review_score']=='Positive']['pred'].value_counts()"
   ]
  },
  {
   "cell_type": "code",
   "execution_count": 109,
   "metadata": {},
   "outputs": [
    {
     "data": {
      "text/plain": [
       "votes_delay     1213\n",
       "votes_before     449\n",
       "votes_part       353\n",
       "votes_sat        252\n",
       "votes_ret        233\n",
       "votes_qual       165\n",
       "votes_etc        131\n",
       "votes_od         101\n",
       "votes_wrong       83\n",
       "votes_bro         76\n",
       "votes_ss          72\n",
       "votes_naa         18\n",
       "votes_pack         6\n",
       "Name: pred, dtype: int64"
      ]
     },
     "execution_count": 109,
     "metadata": {},
     "output_type": "execute_result"
    }
   ],
   "source": [
    "results[results['pn_review_score']=='Negative']['pred'].value_counts()"
   ]
  },
  {
   "cell_type": "code",
   "execution_count": 118,
   "metadata": {},
   "outputs": [],
   "source": [
    "pd.DataFrame(results.groupby('pn_review_score')['pred'].value_counts()).to_csv('결과빈도표.csv')\n",
    "pd.DataFrame(results.groupby('classes')['pred'].value_counts()).to_csv('결과빈도표2.csv')"
   ]
  },
  {
   "cell_type": "code",
   "execution_count": 117,
   "metadata": {},
   "outputs": [],
   "source": [
    "pd.DataFrame(results.groupby('pn_review_score')['pred'].value_counts()).to_csv('결과빈도표.csv')"
   ]
  },
  {
   "cell_type": "code",
   "execution_count": 168,
   "metadata": {},
   "outputs": [],
   "source": [
    "res1= pd.DataFrame(results.groupby('pn_review_score')['pred'].value_counts())"
   ]
  },
  {
   "cell_type": "code",
   "execution_count": 159,
   "metadata": {},
   "outputs": [
    {
     "data": {
      "text/html": [
       "<div>\n",
       "<style scoped>\n",
       "    .dataframe tbody tr th:only-of-type {\n",
       "        vertical-align: middle;\n",
       "    }\n",
       "\n",
       "    .dataframe tbody tr th {\n",
       "        vertical-align: top;\n",
       "    }\n",
       "\n",
       "    .dataframe thead th {\n",
       "        text-align: right;\n",
       "    }\n",
       "</style>\n",
       "<table border=\"1\" class=\"dataframe\">\n",
       "  <thead>\n",
       "    <tr style=\"text-align: right;\">\n",
       "      <th></th>\n",
       "      <th>pn_review_score</th>\n",
       "      <th>pred</th>\n",
       "    </tr>\n",
       "    <tr>\n",
       "      <th>pred</th>\n",
       "      <th></th>\n",
       "      <th></th>\n",
       "    </tr>\n",
       "  </thead>\n",
       "  <tbody>\n",
       "    <tr>\n",
       "      <th>votes_delay</th>\n",
       "      <td>Negative</td>\n",
       "      <td>1213</td>\n",
       "    </tr>\n",
       "    <tr>\n",
       "      <th>votes_before</th>\n",
       "      <td>Negative</td>\n",
       "      <td>449</td>\n",
       "    </tr>\n",
       "    <tr>\n",
       "      <th>votes_part</th>\n",
       "      <td>Negative</td>\n",
       "      <td>353</td>\n",
       "    </tr>\n",
       "    <tr>\n",
       "      <th>votes_sat</th>\n",
       "      <td>Negative</td>\n",
       "      <td>252</td>\n",
       "    </tr>\n",
       "    <tr>\n",
       "      <th>votes_ret</th>\n",
       "      <td>Negative</td>\n",
       "      <td>233</td>\n",
       "    </tr>\n",
       "  </tbody>\n",
       "</table>\n",
       "</div>"
      ],
      "text/plain": [
       "             pn_review_score  pred\n",
       "pred                              \n",
       "votes_delay         Negative  1213\n",
       "votes_before        Negative   449\n",
       "votes_part          Negative   353\n",
       "votes_sat           Negative   252\n",
       "votes_ret           Negative   233"
      ]
     },
     "execution_count": 159,
     "metadata": {},
     "output_type": "execute_result"
    }
   ],
   "source": [
    "res1.head()"
   ]
  },
  {
   "cell_type": "code",
   "execution_count": 169,
   "metadata": {},
   "outputs": [],
   "source": [
    "res1.reset_index(['pn_review_score'],inplace = True)"
   ]
  },
  {
   "cell_type": "code",
   "execution_count": 136,
   "metadata": {},
   "outputs": [],
   "source": [
    "ko_col = {'votes_delay':'배송지연', 'votes_before':'빨리도착','votes_part':'누락/부분배송','votes_sat':'만족'\n",
    "          ,'votes_ret':'리턴','votes_qual':'제품불량','votes_etc':'기타','votes_od':'기타배송',\n",
    "          'votes_wrong':'잘못된배송','votes_bro':'제품훼손','votes_ss':'서비스','votes_naa':'과대광고','votes_pack':'포장문제'}"
   ]
  },
  {
   "cell_type": "code",
   "execution_count": 171,
   "metadata": {},
   "outputs": [],
   "source": [
    "new_index = [ko_col[i] for i in res1.index.tolist()]\n",
    "res1['label'] = new_index\n",
    "res1.set_index('label', inplace=True)"
   ]
  },
  {
   "cell_type": "code",
   "execution_count": 217,
   "metadata": {},
   "outputs": [],
   "source": [
    "countsum = res1.groupby(res1.index).sum()\n",
    "indexlist = res1.index.tolist()"
   ]
  },
  {
   "cell_type": "code",
   "execution_count": 279,
   "metadata": {},
   "outputs": [],
   "source": [
    "#palette = dict(zip(list(set(indexlist)), sns.color_palette()))"
   ]
  },
  {
   "cell_type": "code",
   "execution_count": 243,
   "metadata": {},
   "outputs": [],
   "source": [
    "prop = []\n",
    "for ind,i in enumerate(res1['pred']):\n",
    "    a = i/countsum.loc[indexlist[ind]]\n",
    "    prop.append(100*float(a))\n",
    "    "
   ]
  },
  {
   "cell_type": "code",
   "execution_count": 259,
   "metadata": {},
   "outputs": [
    {
     "data": {
      "text/html": [
       "<div>\n",
       "<style scoped>\n",
       "    .dataframe tbody tr th:only-of-type {\n",
       "        vertical-align: middle;\n",
       "    }\n",
       "\n",
       "    .dataframe tbody tr th {\n",
       "        vertical-align: top;\n",
       "    }\n",
       "\n",
       "    .dataframe thead th {\n",
       "        text-align: right;\n",
       "    }\n",
       "</style>\n",
       "<table border=\"1\" class=\"dataframe\">\n",
       "  <thead>\n",
       "    <tr style=\"text-align: right;\">\n",
       "      <th></th>\n",
       "      <th>pn_review_score</th>\n",
       "      <th>pred</th>\n",
       "      <th>prop</th>\n",
       "    </tr>\n",
       "    <tr>\n",
       "      <th>label</th>\n",
       "      <th></th>\n",
       "      <th></th>\n",
       "      <th></th>\n",
       "    </tr>\n",
       "  </thead>\n",
       "  <tbody>\n",
       "    <tr>\n",
       "      <th>배송지연</th>\n",
       "      <td>Negative</td>\n",
       "      <td>1213</td>\n",
       "      <td>89.322533</td>\n",
       "    </tr>\n",
       "    <tr>\n",
       "      <th>빨리도착</th>\n",
       "      <td>Negative</td>\n",
       "      <td>449</td>\n",
       "      <td>12.980630</td>\n",
       "    </tr>\n",
       "    <tr>\n",
       "      <th>누락/부분배송</th>\n",
       "      <td>Negative</td>\n",
       "      <td>353</td>\n",
       "      <td>88.250000</td>\n",
       "    </tr>\n",
       "    <tr>\n",
       "      <th>만족</th>\n",
       "      <td>Negative</td>\n",
       "      <td>252</td>\n",
       "      <td>7.708779</td>\n",
       "    </tr>\n",
       "    <tr>\n",
       "      <th>리턴</th>\n",
       "      <td>Negative</td>\n",
       "      <td>233</td>\n",
       "      <td>89.272031</td>\n",
       "    </tr>\n",
       "    <tr>\n",
       "      <th>제품불량</th>\n",
       "      <td>Negative</td>\n",
       "      <td>165</td>\n",
       "      <td>87.765957</td>\n",
       "    </tr>\n",
       "    <tr>\n",
       "      <th>기타</th>\n",
       "      <td>Negative</td>\n",
       "      <td>131</td>\n",
       "      <td>89.726027</td>\n",
       "    </tr>\n",
       "    <tr>\n",
       "      <th>기타배송</th>\n",
       "      <td>Negative</td>\n",
       "      <td>101</td>\n",
       "      <td>66.447368</td>\n",
       "    </tr>\n",
       "    <tr>\n",
       "      <th>잘못된배송</th>\n",
       "      <td>Negative</td>\n",
       "      <td>83</td>\n",
       "      <td>91.208791</td>\n",
       "    </tr>\n",
       "    <tr>\n",
       "      <th>제품훼손</th>\n",
       "      <td>Negative</td>\n",
       "      <td>76</td>\n",
       "      <td>79.166667</td>\n",
       "    </tr>\n",
       "    <tr>\n",
       "      <th>서비스</th>\n",
       "      <td>Negative</td>\n",
       "      <td>72</td>\n",
       "      <td>93.506494</td>\n",
       "    </tr>\n",
       "    <tr>\n",
       "      <th>과대광고</th>\n",
       "      <td>Negative</td>\n",
       "      <td>18</td>\n",
       "      <td>78.260870</td>\n",
       "    </tr>\n",
       "    <tr>\n",
       "      <th>포장문제</th>\n",
       "      <td>Negative</td>\n",
       "      <td>6</td>\n",
       "      <td>85.714286</td>\n",
       "    </tr>\n",
       "  </tbody>\n",
       "</table>\n",
       "</div>"
      ],
      "text/plain": [
       "        pn_review_score  pred       prop\n",
       "label                                   \n",
       "배송지연           Negative  1213  89.322533\n",
       "빨리도착           Negative   449  12.980630\n",
       "누락/부분배송        Negative   353  88.250000\n",
       "만족             Negative   252   7.708779\n",
       "리턴             Negative   233  89.272031\n",
       "제품불량           Negative   165  87.765957\n",
       "기타             Negative   131  89.726027\n",
       "기타배송           Negative   101  66.447368\n",
       "잘못된배송          Negative    83  91.208791\n",
       "제품훼손           Negative    76  79.166667\n",
       "서비스            Negative    72  93.506494\n",
       "과대광고           Negative    18  78.260870\n",
       "포장문제           Negative     6  85.714286"
      ]
     },
     "execution_count": 259,
     "metadata": {},
     "output_type": "execute_result"
    }
   ],
   "source": [
    "negative"
   ]
  },
  {
   "cell_type": "code",
   "execution_count": 244,
   "metadata": {},
   "outputs": [],
   "source": [
    "res1['prop']= prop"
   ]
  },
  {
   "cell_type": "code",
   "execution_count": 283,
   "metadata": {},
   "outputs": [
    {
     "data": {
      "text/plain": [
       "{'제품불량': (0.12156862745098039, 0.4666666666666667, 0.7058823529411765),\n",
       " '제품훼손': (1.0, 0.4980392156862745, 0.054901960784313725),\n",
       " '만족': (0.17254901960784313, 0.6274509803921569, 0.17254901960784313),\n",
       " '기타배송': (0.8392156862745098, 0.15294117647058825, 0.1568627450980392),\n",
       " '누락/부분배송': (0.5803921568627451, 0.403921568627451, 0.7411764705882353),\n",
       " '기타': (0.5490196078431373, 0.33725490196078434, 0.29411764705882354),\n",
       " '잘못된배송': (0.8901960784313725, 0.4666666666666667, 0.7607843137254902),\n",
       " '포장문제': (0.4980392156862745, 0.4980392156862745, 0.4980392156862745),\n",
       " '과대광고': (0.7372549019607844, 0.7411764705882353, 0.13333333333333333),\n",
       " '빨리도착': (0.09019607843137255, 0.7450980392156863, 0.8117647058823529)}"
      ]
     },
     "execution_count": 283,
     "metadata": {},
     "output_type": "execute_result"
    }
   ],
   "source": [
    "palette = dict(zip(list(set(indexlist)), sns.color_palette()))"
   ]
  },
  {
   "cell_type": "code",
   "execution_count": 291,
   "metadata": {},
   "outputs": [],
   "source": [
    "cat_order = {'만족':0, '빨리도착':1,\n",
    "          '제품불량':2 ,'제품훼손':3,'포장문제':4,'과대광고':5,\n",
    "          '잘못된배송':6 ,'서비스':7,\n",
    "          '배송지연':8,'누락/부분배송':9,'기타배송':10,'리턴':11\n",
    "          ,'기타':12}"
   ]
  },
  {
   "cell_type": "code",
   "execution_count": 390,
   "metadata": {},
   "outputs": [
    {
     "name": "stderr",
     "output_type": "stream",
     "text": [
      "/anaconda3/lib/python3.7/site-packages/ipykernel_launcher.py:6: SettingWithCopyWarning: \n",
      "A value is trying to be set on a copy of a slice from a DataFrame.\n",
      "Try using .loc[row_indexer,col_indexer] = value instead\n",
      "\n",
      "See the caveats in the documentation: http://pandas.pydata.org/pandas-docs/stable/indexing.html#indexing-view-versus-copy\n",
      "  \n"
     ]
    },
    {
     "data": {
      "image/png": "[encoded data removed]",
      "text/plain": [
       "<Figure size 432x288 with 1 Axes>"
      ]
     },
     "metadata": {
      "needs_background": "light"
     },
     "output_type": "display_data"
    }
   ],
   "source": [
    "negative = res1[res1['pn_review_score']=='Negative']\n",
    "\n",
    "order = []\n",
    "for i in negative.index.tolist():\n",
    "    order.append(cat_order[i])\n",
    "negative['order'] = order\n",
    "negative = negative.sort_values('order')\n",
    "\n",
    "\n",
    "pal = ['steelblue','steelblue','darkorange','darkorange','darkorange','darkorange',\n",
    "      'yellowgreen','yellowgreen','salmon','salmon','mediumpurple','mediumpurple','mediumpurple','darkred']\n",
    "\n",
    "\n",
    "#pal = sns.color_palette(\"Paired\", len(negative['prop']))\n",
    "#rank = negative['order'].argsort().argsort()  \n",
    "#pal = ['steelblue','skyblue','darkorange','navajowhite','orange','darkgolenrod',\n",
    "#      'olivedrab','yellowgreen','salmon','darkred','plum','mediumpurple','darkorchid']\n",
    "#palette=dict(zip(list(set(indexlist)), np.array(pal[::-1])[rank]))\n",
    "#palette=np.array(pal)[rank]\n",
    "#palette=dict(zip(list(set(indexlist)), pal))\n",
    "sns.barplot(x= negative.index, y = 'prop',data = negative, palette=pal)\n",
    "plt.xticks(rotation = 90)\n",
    "\n",
    "plt.title('부정 평점 댓글의 카테고리별 비율')\n",
    "plt.ylabel('카테고리내에서 부정 비율')\n",
    "plt.xlabel('카테고리')\n",
    "plt.savefig('모델사용)부정 평점 댓글의 카테고리별 비율.png',bbox_inches='tight' )"
   ]
  },
  {
   "cell_type": "code",
   "execution_count": 319,
   "metadata": {},
   "outputs": [],
   "source": [
    "pal = pal[2],pal[3],pal[0],pal[1],pal[4],pal[5],pal[6],pal[7],pal[8],pal[9],pal[10],pal[11],pal[12]"
   ]
  },
  {
   "cell_type": "code",
   "execution_count": 391,
   "metadata": {},
   "outputs": [
    {
     "name": "stderr",
     "output_type": "stream",
     "text": [
      "/anaconda3/lib/python3.7/site-packages/ipykernel_launcher.py:6: SettingWithCopyWarning: \n",
      "A value is trying to be set on a copy of a slice from a DataFrame.\n",
      "Try using .loc[row_indexer,col_indexer] = value instead\n",
      "\n",
      "See the caveats in the documentation: http://pandas.pydata.org/pandas-docs/stable/indexing.html#indexing-view-versus-copy\n",
      "  \n"
     ]
    },
    {
     "data": {
      "image/png": "[encoded data removed]",
      "text/plain": [
       "<Figure size 432x288 with 1 Axes>"
      ]
     },
     "metadata": {
      "needs_background": "light"
     },
     "output_type": "display_data"
    }
   ],
   "source": [
    "positive = res1[res1['pn_review_score']=='Positive']\n",
    "\n",
    "order = []\n",
    "for i in positive.index.tolist():\n",
    "    order.append(cat_order[i])\n",
    "positive['order'] = order\n",
    "positive = positive.sort_values('order')\n",
    "\n",
    "#pal = sns.color_palette(\"Paired\", len(positive['prop']))\n",
    "#rank = positive['order'].argsort().argsort()  \n",
    "\n",
    "pal = ['steelblue','steelblue','darkorange','darkorange','darkorange','darkorange',\n",
    "      'yellowgreen','yellowgreen','salmon','salmon','mediumpurple','mediumpurple','mediumpurple','darkred']\n",
    "\n",
    "#palette=dict(zip(list(set(indexlist)), pal))\n",
    "\n",
    "#, palette=np.array(pal[::-1])[rank]\n",
    "sns.barplot(x= positive.index, y = 'prop',data = positive, palette=pal)\n",
    "\n",
    "plt.xticks(rotation = 90)\n",
    "\n",
    "\n",
    "plt.title('긍정 평점 댓글의 카테고리별 비율')\n",
    "plt.ylabel('카테고리내에서 긍정 비율')\n",
    "plt.xlabel('카테고리')\n",
    "plt.savefig('모델사용)긍정 평점 댓글의 카테고리별 비율.png',bbox_inches='tight' )"
   ]
  },
  {
   "cell_type": "code",
   "execution_count": 186,
   "metadata": {},
   "outputs": [
    {
     "data": {
      "image/png": "[encoded data removed]",
      "text/plain": [
       "<Figure size 432x288 with 1 Axes>"
      ]
     },
     "metadata": {},
     "output_type": "display_data"
    }
   ],
   "source": [
    "\n",
    "pal = sns.color_palette(\"Greens_d\", len(res1['pred']))\n",
    "rank = res1['pred'].argsort().argsort()   \n",
    "\n",
    "\n",
    "#np.array(pal[::-1])[rank]\n",
    "a =res1[res1['pn_review_score']=='Negative']['pred'].plot.pie(radius=3, shadow=True)\n"
   ]
  },
  {
   "cell_type": "code",
   "execution_count": 206,
   "metadata": {},
   "outputs": [
    {
     "data": {
      "text/plain": [
       "<matplotlib.legend.Legend at 0x1279f6710>"
      ]
     },
     "execution_count": 206,
     "metadata": {},
     "output_type": "execute_result"
    },
    {
     "data": {
      "image/png": "[encoded data removed]",
      "text/plain": [
       "<Figure size 432x288 with 1 Axes>"
      ]
     },
     "metadata": {},
     "output_type": "display_data"
    }
   ],
   "source": []
  },
  {
   "cell_type": "markdown",
   "metadata": {},
   "source": [
    "## 모델없이 성능평가"
   ]
  },
  {
   "cell_type": "code",
   "execution_count": 347,
   "metadata": {},
   "outputs": [],
   "source": [
    "df2 = pd.DataFrame(df.groupby('pn_review_score')['classes'].value_counts())"
   ]
  },
  {
   "cell_type": "code",
   "execution_count": 400,
   "metadata": {},
   "outputs": [],
   "source": [
    "pdf= pd.DataFrame(df.groupby('pn_review_score')['classes'].value_counts())\n",
    "cdf= pd.DataFrame(df.groupby('classes')['pn_review_score'].value_counts())"
   ]
  },
  {
   "cell_type": "code",
   "execution_count": 401,
   "metadata": {},
   "outputs": [
    {
     "data": {
      "text/html": [
       "<div>\n",
       "<style scoped>\n",
       "    .dataframe tbody tr th:only-of-type {\n",
       "        vertical-align: middle;\n",
       "    }\n",
       "\n",
       "    .dataframe tbody tr th {\n",
       "        vertical-align: top;\n",
       "    }\n",
       "\n",
       "    .dataframe thead th {\n",
       "        text-align: right;\n",
       "    }\n",
       "</style>\n",
       "<table border=\"1\" class=\"dataframe\">\n",
       "  <thead>\n",
       "    <tr style=\"text-align: right;\">\n",
       "      <th></th>\n",
       "      <th></th>\n",
       "      <th>pn_review_score</th>\n",
       "    </tr>\n",
       "    <tr>\n",
       "      <th>classes</th>\n",
       "      <th>pn_review_score</th>\n",
       "      <th></th>\n",
       "    </tr>\n",
       "  </thead>\n",
       "  <tbody>\n",
       "    <tr>\n",
       "      <th rowspan=\"2\" valign=\"top\">nan</th>\n",
       "      <th>Positive</th>\n",
       "      <td>4001</td>\n",
       "    </tr>\n",
       "    <tr>\n",
       "      <th>Negative</th>\n",
       "      <td>3107</td>\n",
       "    </tr>\n",
       "    <tr>\n",
       "      <th rowspan=\"2\" valign=\"top\">votes_before</th>\n",
       "      <th>Positive</th>\n",
       "      <td>10037</td>\n",
       "    </tr>\n",
       "    <tr>\n",
       "      <th>Negative</th>\n",
       "      <td>1474</td>\n",
       "    </tr>\n",
       "    <tr>\n",
       "      <th rowspan=\"2\" valign=\"top\">votes_bro</th>\n",
       "      <th>Negative</th>\n",
       "      <td>257</td>\n",
       "    </tr>\n",
       "    <tr>\n",
       "      <th>Positive</th>\n",
       "      <td>59</td>\n",
       "    </tr>\n",
       "    <tr>\n",
       "      <th rowspan=\"2\" valign=\"top\">votes_delay</th>\n",
       "      <th>Negative</th>\n",
       "      <td>3914</td>\n",
       "    </tr>\n",
       "    <tr>\n",
       "      <th>Positive</th>\n",
       "      <td>592</td>\n",
       "    </tr>\n",
       "    <tr>\n",
       "      <th rowspan=\"2\" valign=\"top\">votes_etc</th>\n",
       "      <th>Negative</th>\n",
       "      <td>441</td>\n",
       "    </tr>\n",
       "    <tr>\n",
       "      <th>Positive</th>\n",
       "      <td>53</td>\n",
       "    </tr>\n",
       "    <tr>\n",
       "      <th rowspan=\"2\" valign=\"top\">votes_naa</th>\n",
       "      <th>Negative</th>\n",
       "      <td>79</td>\n",
       "    </tr>\n",
       "    <tr>\n",
       "      <th>Positive</th>\n",
       "      <td>17</td>\n",
       "    </tr>\n",
       "    <tr>\n",
       "      <th rowspan=\"2\" valign=\"top\">votes_od</th>\n",
       "      <th>Negative</th>\n",
       "      <td>342</td>\n",
       "    </tr>\n",
       "    <tr>\n",
       "      <th>Positive</th>\n",
       "      <td>162</td>\n",
       "    </tr>\n",
       "    <tr>\n",
       "      <th rowspan=\"2\" valign=\"top\">votes_pack</th>\n",
       "      <th>Negative</th>\n",
       "      <td>38</td>\n",
       "    </tr>\n",
       "    <tr>\n",
       "      <th>Positive</th>\n",
       "      <td>11</td>\n",
       "    </tr>\n",
       "    <tr>\n",
       "      <th rowspan=\"2\" valign=\"top\">votes_part</th>\n",
       "      <th>Negative</th>\n",
       "      <td>1173</td>\n",
       "    </tr>\n",
       "    <tr>\n",
       "      <th>Positive</th>\n",
       "      <td>156</td>\n",
       "    </tr>\n",
       "    <tr>\n",
       "      <th rowspan=\"2\" valign=\"top\">votes_qual</th>\n",
       "      <th>Negative</th>\n",
       "      <td>556</td>\n",
       "    </tr>\n",
       "    <tr>\n",
       "      <th>Positive</th>\n",
       "      <td>84</td>\n",
       "    </tr>\n",
       "    <tr>\n",
       "      <th rowspan=\"2\" valign=\"top\">votes_ret</th>\n",
       "      <th>Negative</th>\n",
       "      <td>782</td>\n",
       "    </tr>\n",
       "    <tr>\n",
       "      <th>Positive</th>\n",
       "      <td>91</td>\n",
       "    </tr>\n",
       "    <tr>\n",
       "      <th rowspan=\"2\" valign=\"top\">votes_sat</th>\n",
       "      <th>Positive</th>\n",
       "      <td>10057</td>\n",
       "    </tr>\n",
       "    <tr>\n",
       "      <th>Negative</th>\n",
       "      <td>824</td>\n",
       "    </tr>\n",
       "    <tr>\n",
       "      <th rowspan=\"2\" valign=\"top\">votes_ss</th>\n",
       "      <th>Negative</th>\n",
       "      <td>264</td>\n",
       "    </tr>\n",
       "    <tr>\n",
       "      <th>Positive</th>\n",
       "      <td>18</td>\n",
       "    </tr>\n",
       "    <tr>\n",
       "      <th rowspan=\"2\" valign=\"top\">votes_wrong</th>\n",
       "      <th>Negative</th>\n",
       "      <td>267</td>\n",
       "    </tr>\n",
       "    <tr>\n",
       "      <th>Positive</th>\n",
       "      <td>36</td>\n",
       "    </tr>\n",
       "  </tbody>\n",
       "</table>\n",
       "</div>"
      ],
      "text/plain": [
       "                              pn_review_score\n",
       "classes      pn_review_score                 \n",
       "nan          Positive                    4001\n",
       "             Negative                    3107\n",
       "votes_before Positive                   10037\n",
       "             Negative                    1474\n",
       "votes_bro    Negative                     257\n",
       "             Positive                      59\n",
       "votes_delay  Negative                    3914\n",
       "             Positive                     592\n",
       "votes_etc    Negative                     441\n",
       "             Positive                      53\n",
       "votes_naa    Negative                      79\n",
       "             Positive                      17\n",
       "votes_od     Negative                     342\n",
       "             Positive                     162\n",
       "votes_pack   Negative                      38\n",
       "             Positive                      11\n",
       "votes_part   Negative                    1173\n",
       "             Positive                     156\n",
       "votes_qual   Negative                     556\n",
       "             Positive                      84\n",
       "votes_ret    Negative                     782\n",
       "             Positive                      91\n",
       "votes_sat    Positive                   10057\n",
       "             Negative                     824\n",
       "votes_ss     Negative                     264\n",
       "             Positive                      18\n",
       "votes_wrong  Negative                     267\n",
       "             Positive                      36"
      ]
     },
     "execution_count": 401,
     "metadata": {},
     "output_type": "execute_result"
    }
   ],
   "source": [
    "cdf"
   ]
  },
  {
   "cell_type": "code",
   "execution_count": 411,
   "metadata": {},
   "outputs": [],
   "source": [
    "npie=pd.DataFrame(df2[df2['pn_review_score']=='Negative']['classes']/135.18)"
   ]
  },
  {
   "cell_type": "code",
   "execution_count": 412,
   "metadata": {},
   "outputs": [
    {
     "ename": "AttributeError",
     "evalue": "module 'seaborn' has no attribute 'plot'",
     "output_type": "error",
     "traceback": [
      "\u001b[0;31m---------------------------------------------------------------------------\u001b[0m",
      "\u001b[0;31mAttributeError\u001b[0m                            Traceback (most recent call last)",
      "\u001b[0;32m<ipython-input-412-2fdf41f113a2>\u001b[0m in \u001b[0;36m<module>\u001b[0;34m\u001b[0m\n\u001b[0;32m----> 1\u001b[0;31m \u001b[0msns\u001b[0m\u001b[0;34m.\u001b[0m\u001b[0mplot\u001b[0m\u001b[0;34m.\u001b[0m\u001b[0mpie\u001b[0m\u001b[0;34m(\u001b[0m\u001b[0mdata\u001b[0m \u001b[0;34m=\u001b[0m \u001b[0mnpie\u001b[0m\u001b[0;34m[\u001b[0m\u001b[0;34m'classes'\u001b[0m\u001b[0;34m]\u001b[0m\u001b[0;34m)\u001b[0m\u001b[0;34m\u001b[0m\u001b[0;34m\u001b[0m\u001b[0m\n\u001b[0m",
      "\u001b[0;31mAttributeError\u001b[0m: module 'seaborn' has no attribute 'plot'"
     ]
    }
   ],
   "source": [
    "sns.plot.pie(data = npie['classes'])"
   ]
  },
  {
   "cell_type": "code",
   "execution_count": null,
   "metadata": {},
   "outputs": [],
   "source": []
  },
  {
   "cell_type": "code",
   "execution_count": 409,
   "metadata": {},
   "outputs": [
    {
     "data": {
      "text/plain": [
       "label\n",
       "만족         39.635060\n",
       "빨리도착       39.556239\n",
       "분류없음       15.768109\n",
       "배송지연        2.333097\n",
       "기타배송        0.638449\n",
       "누락/부분배송     0.614803\n",
       "리턴          0.358635\n",
       "제품불량        0.331048\n",
       "제품훼손        0.232521\n",
       "기타          0.208875\n",
       "잘못된배송       0.141878\n",
       "서비스         0.070939\n",
       "과대광고        0.066998\n",
       "포장문제        0.043351\n",
       "Name: classes, dtype: float64"
      ]
     },
     "execution_count": 409,
     "metadata": {},
     "output_type": "execute_result"
    }
   ],
   "source": [
    "df2[df2['pn_review_score']=='Positive']['classes']/253.74"
   ]
  },
  {
   "cell_type": "code",
   "execution_count": 348,
   "metadata": {},
   "outputs": [],
   "source": [
    "df2.reset_index(['pn_review_score'],inplace = True)"
   ]
  },
  {
   "cell_type": "code",
   "execution_count": 350,
   "metadata": {},
   "outputs": [],
   "source": [
    "ko_col = {'votes_delay':'배송지연', 'votes_before':'빨리도착','votes_part':'누락/부분배송','votes_sat':'만족'\n",
    "          ,'votes_ret':'리턴','votes_qual':'제품불량','votes_etc':'기타','votes_od':'기타배송',\n",
    "          'votes_wrong':'잘못된배송','votes_bro':'제품훼손','votes_ss':'서비스','votes_naa':'과대광고','votes_pack':'포장문제',\n",
    "         'nan':'분류없음'}"
   ]
  },
  {
   "cell_type": "code",
   "execution_count": 351,
   "metadata": {},
   "outputs": [],
   "source": [
    "cat_order = {'만족':0, '빨리도착':1,\n",
    "          '제품불량':2 ,'제품훼손':3,'포장문제':4,'과대광고':5,\n",
    "          '잘못된배송':6 ,'서비스':7,\n",
    "          '배송지연':8,'누락/부분배송':9,'기타배송':10,'리턴':11\n",
    "          ,'기타':12,'분류없음':13}"
   ]
  },
  {
   "cell_type": "code",
   "execution_count": 352,
   "metadata": {},
   "outputs": [],
   "source": [
    "new_index = [ko_col[i] for i in df2.index.tolist()]"
   ]
  },
  {
   "cell_type": "code",
   "execution_count": 356,
   "metadata": {},
   "outputs": [],
   "source": [
    "df2['label'] = new_index\n",
    "df2.set_index('label', inplace=True)"
   ]
  },
  {
   "cell_type": "code",
   "execution_count": 357,
   "metadata": {},
   "outputs": [],
   "source": [
    "\n",
    "countsum = df2.groupby(df2.index).sum()\n",
    "indexlist = df2.index.tolist()"
   ]
  },
  {
   "cell_type": "code",
   "execution_count": 360,
   "metadata": {},
   "outputs": [
    {
     "data": {
      "text/html": [
       "<div>\n",
       "<style scoped>\n",
       "    .dataframe tbody tr th:only-of-type {\n",
       "        vertical-align: middle;\n",
       "    }\n",
       "\n",
       "    .dataframe tbody tr th {\n",
       "        vertical-align: top;\n",
       "    }\n",
       "\n",
       "    .dataframe thead th {\n",
       "        text-align: right;\n",
       "    }\n",
       "</style>\n",
       "<table border=\"1\" class=\"dataframe\">\n",
       "  <thead>\n",
       "    <tr style=\"text-align: right;\">\n",
       "      <th></th>\n",
       "      <th>pn_review_score</th>\n",
       "      <th>classes</th>\n",
       "    </tr>\n",
       "    <tr>\n",
       "      <th>label</th>\n",
       "      <th></th>\n",
       "      <th></th>\n",
       "    </tr>\n",
       "  </thead>\n",
       "  <tbody>\n",
       "    <tr>\n",
       "      <th>배송지연</th>\n",
       "      <td>Negative</td>\n",
       "      <td>3914</td>\n",
       "    </tr>\n",
       "    <tr>\n",
       "      <th>분류없음</th>\n",
       "      <td>Negative</td>\n",
       "      <td>3107</td>\n",
       "    </tr>\n",
       "    <tr>\n",
       "      <th>빨리도착</th>\n",
       "      <td>Negative</td>\n",
       "      <td>1474</td>\n",
       "    </tr>\n",
       "    <tr>\n",
       "      <th>누락/부분배송</th>\n",
       "      <td>Negative</td>\n",
       "      <td>1173</td>\n",
       "    </tr>\n",
       "    <tr>\n",
       "      <th>만족</th>\n",
       "      <td>Negative</td>\n",
       "      <td>824</td>\n",
       "    </tr>\n",
       "  </tbody>\n",
       "</table>\n",
       "</div>"
      ],
      "text/plain": [
       "        pn_review_score  classes\n",
       "label                           \n",
       "배송지연           Negative     3914\n",
       "분류없음           Negative     3107\n",
       "빨리도착           Negative     1474\n",
       "누락/부분배송        Negative     1173\n",
       "만족             Negative      824"
      ]
     },
     "execution_count": 360,
     "metadata": {},
     "output_type": "execute_result"
    }
   ],
   "source": [
    "df2.head()"
   ]
  },
  {
   "cell_type": "code",
   "execution_count": 362,
   "metadata": {},
   "outputs": [],
   "source": [
    "prop = []\n",
    "for ind,i in enumerate(df2['classes']):\n",
    "    a = i/countsum.loc[indexlist[ind]]\n",
    "    prop.append(100*float(a))\n",
    "    \n",
    "df2['prop']= prop"
   ]
  },
  {
   "cell_type": "code",
   "execution_count": 388,
   "metadata": {},
   "outputs": [
    {
     "name": "stderr",
     "output_type": "stream",
     "text": [
      "/anaconda3/lib/python3.7/site-packages/ipykernel_launcher.py:6: SettingWithCopyWarning: \n",
      "A value is trying to be set on a copy of a slice from a DataFrame.\n",
      "Try using .loc[row_indexer,col_indexer] = value instead\n",
      "\n",
      "See the caveats in the documentation: http://pandas.pydata.org/pandas-docs/stable/indexing.html#indexing-view-versus-copy\n",
      "  \n"
     ]
    },
    {
     "data": {
      "image/png": "[encoded data removed]",
      "text/plain": [
       "<Figure size 432x288 with 1 Axes>"
      ]
     },
     "metadata": {
      "needs_background": "light"
     },
     "output_type": "display_data"
    }
   ],
   "source": [
    "negative = df2[df2['pn_review_score']=='Negative']\n",
    "\n",
    "order = []\n",
    "for i in negative.index.tolist():\n",
    "    order.append(cat_order[i])\n",
    "negative['order'] = order\n",
    "negative = negative.sort_values('order')\n",
    "\n",
    "#pal = sns.color_palette(\"Blues_d\", len(negative['prop']))\n",
    "#rank = negative['order'].argsort().argsort()  \n",
    "\n",
    "\n",
    "pal = ['steelblue','steelblue','darkorange','darkorange','darkorange','darkorange',\n",
    "      'yellowgreen','yellowgreen','salmon','salmon','mediumpurple','mediumpurple','mediumpurple','darkred']\n",
    "#, palette=np.array(pal)[rank]\n",
    "sns.barplot(x= negative.index, y = 'prop',data = negative, palette=pal)\n",
    "plt.xticks(rotation = 90)\n",
    "\n",
    "plt.title('부정 평점 댓글의 카테고리별 비율')\n",
    "plt.ylabel('카테고리내에서 부정 비율')\n",
    "plt.xlabel('카테고리')\n",
    "plt.savefig('1.부정 평점 댓글의 카테고리별 비율.png',bbox_inches='tight' )"
   ]
  },
  {
   "cell_type": "code",
   "execution_count": 387,
   "metadata": {},
   "outputs": [
    {
     "name": "stderr",
     "output_type": "stream",
     "text": [
      "/anaconda3/lib/python3.7/site-packages/ipykernel_launcher.py:2: SettingWithCopyWarning: \n",
      "A value is trying to be set on a copy of a slice from a DataFrame.\n",
      "Try using .loc[row_indexer,col_indexer] = value instead\n",
      "\n",
      "See the caveats in the documentation: http://pandas.pydata.org/pandas-docs/stable/indexing.html#indexing-view-versus-copy\n",
      "  \n",
      "/anaconda3/lib/python3.7/site-packages/ipykernel_launcher.py:7: SettingWithCopyWarning: \n",
      "A value is trying to be set on a copy of a slice from a DataFrame.\n",
      "Try using .loc[row_indexer,col_indexer] = value instead\n",
      "\n",
      "See the caveats in the documentation: http://pandas.pydata.org/pandas-docs/stable/indexing.html#indexing-view-versus-copy\n",
      "  import sys\n"
     ]
    },
    {
     "data": {
      "image/png": "[encoded data removed]",
      "text/plain": [
       "<Figure size 432x288 with 1 Axes>"
      ]
     },
     "metadata": {
      "needs_background": "light"
     },
     "output_type": "display_data"
    }
   ],
   "source": [
    "positive = df2[df2['pn_review_score']=='Positive']\n",
    "positive['label_rank'] = [0,0,1,1,1,1,2,2,3,3,4,4,4,5]\n",
    "\n",
    "order = []\n",
    "for i in positive.index.tolist():\n",
    "    order.append(cat_order[i])\n",
    "positive['order'] = order\n",
    "positive = positive.sort_values('order')\n",
    "\n",
    "#pal = sns.color_palette(\"Paired\", len(positive['prop']))\n",
    "#rank = positive['order'].argsort().argsort() \n",
    "\n",
    "pal = ['steelblue','steelblue','darkorange','darkorange','darkorange','darkorange',\n",
    "      'yellowgreen','yellowgreen','salmon','salmon','mediumpurple','mediumpurple','mediumpurple','darkred']\n",
    "#np.array(pal)[rank]\n",
    "\n",
    "sns.barplot(x= positive.index, y = 'prop',data = positive, palette=pal)\n",
    "plt.xticks(rotation = 90)\n",
    "\n",
    "\n",
    "plt.title('긍정 평점 댓글의 카테고리별 비율')\n",
    "plt.ylabel('카테고리내에서 긍정 비율')\n",
    "plt.xlabel('카테고리')\n",
    "plt.savefig('1.긍정 평점 댓글의 카테고리별 비율.png',bbox_inches='tight' )"
   ]
  },
  {
   "cell_type": "code",
   "execution_count": null,
   "metadata": {},
   "outputs": [],
   "source": []
  }
 ],
 "metadata": {
  "kernelspec": {
   "display_name": "Python 3",
   "language": "python",
   "name": "python3"
  },
  "language_info": {
   "codemirror_mode": {
    "name": "ipython",
    "version": 3
   },
   "file_extension": ".py",
   "mimetype": "text/x-python",
   "name": "python",
   "nbconvert_exporter": "python",
   "pygments_lexer": "ipython3",
   "version": "3.7.1"
  },
  "toc": {
   "base_numbering": 1,
   "nav_menu": {},
   "number_sections": true,
   "sideBar": true,
   "skip_h1_title": false,
   "title_cell": "Table of Contents",
   "title_sidebar": "Contents",
   "toc_cell": false,
   "toc_position": {},
   "toc_section_display": true,
   "toc_window_display": false
  },
  "varInspector": {
   "cols": {
    "lenName": 16,
    "lenType": 16,
    "lenVar": 40
   },
   "kernels_config": {
    "python": {
     "delete_cmd_postfix": "",
     "delete_cmd_prefix": "del ",
     "library": "var_list.py",
     "varRefreshCmd": "print(var_dic_list())"
    },
    "r": {
     "delete_cmd_postfix": ") ",
     "delete_cmd_prefix": "rm(",
     "library": "var_list.r",
     "varRefreshCmd": "cat(var_dic_list()) "
    }
   },
   "types_to_exclude": [
    "module",
    "function",
    "builtin_function_or_method",
    "instance",
    "_Feature"
   ],
   "window_display": false
  }
 },
 "nbformat": 4,
 "nbformat_minor": 2
}
