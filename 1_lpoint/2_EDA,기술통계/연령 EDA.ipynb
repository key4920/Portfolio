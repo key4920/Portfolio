{
 "cells": [
  {
   "cell_type": "code",
   "execution_count": 1,
   "metadata": {},
   "outputs": [],
   "source": [
    "import pandas as pd\n",
    "import numpy as np\n",
    "import matplotlib.pyplot as plt\n",
    "from matplotlib import rc\n",
    "\n",
    "import pylab \n",
    "\n",
    "data = pd.read_csv('podol_final2.csv')\n",
    "data = data.drop(columns='Unnamed: 0')\n",
    "data = data.fillna(0)"
   ]
  },
  {
   "cell_type": "code",
   "execution_count": 2,
   "metadata": {},
   "outputs": [
    {
     "name": "stdout",
     "output_type": "stream",
     "text": [
      "AppleGothic\n"
     ]
    }
   ],
   "source": [
    "%matplotlib inline\n",
    "import matplotlib.pyplot as plt\n",
    "import seaborn as sns\n",
    "from matplotlib import font_manager\n",
    "\n",
    "font_name = font_manager.FontProperties(fname = \"/Library/Fonts/AppleGothic.ttf\").get_name()\n",
    "print(font_name)\n",
    "\n",
    "plt.rcParams[\"font.family\"] = font_name\n",
    "plt.rcParams['axes.unicode_minus'] = False"
   ]
  },
  {
   "cell_type": "markdown",
   "metadata": {},
   "source": [
    "# 연령 데이터셋 추출"
   ]
  },
  {
   "cell_type": "code",
   "execution_count": 3,
   "metadata": {},
   "outputs": [
    {
     "data": {
      "text/plain": [
       "Index(['CLAC3_NM', 'CLAC2_NM', 'CLAC1_NM', 'NUM_PD_C', 'NUM_CLNT_ID',\n",
       "       'NUM_CLSE_ID', 'NUM_BRA_NM', 'TOT_HITS', 'TOT_PROFIT', 'TOT_SALES',\n",
       "       'AVG_HITS', 'AVG_PROFIT', 'F', 'M', 'AGE10', 'AGE20', 'AGE30', 'AGE40',\n",
       "       'AGE50', 'AGE60', 'AGE70', 'AGE80', 'TOT_SESS_SEQ', 'TOT_PAGE_VIEW',\n",
       "       'TOT_SESS_HOUR', 'AVG_SESS_SEQ', 'AVG_PAGE_VIEW', 'AVG_SESS_HOUR',\n",
       "       'mobile', 'desktop', 'tablet', 'April', 'May', 'June', 'July', 'August',\n",
       "       'September', 'ZON_Daejeon', 'ZON_Busan', 'ZON_Gyeonggi-do'],\n",
       "      dtype='object')"
      ]
     },
     "execution_count": 3,
     "metadata": {},
     "output_type": "execute_result"
    }
   ],
   "source": [
    "data.columns[:40]"
   ]
  },
  {
   "cell_type": "code",
   "execution_count": 4,
   "metadata": {},
   "outputs": [],
   "source": [
    "ind=list(range(0,3))+list(range(14,22))"
   ]
  },
  {
   "cell_type": "code",
   "execution_count": 5,
   "metadata": {},
   "outputs": [],
   "source": [
    "age = data.iloc[:,ind]"
   ]
  },
  {
   "cell_type": "code",
   "execution_count": 6,
   "metadata": {},
   "outputs": [
    {
     "data": {
      "text/html": [
       "<div>\n",
       "<style scoped>\n",
       "    .dataframe tbody tr th:only-of-type {\n",
       "        vertical-align: middle;\n",
       "    }\n",
       "\n",
       "    .dataframe tbody tr th {\n",
       "        vertical-align: top;\n",
       "    }\n",
       "\n",
       "    .dataframe thead th {\n",
       "        text-align: right;\n",
       "    }\n",
       "</style>\n",
       "<table border=\"1\" class=\"dataframe\">\n",
       "  <thead>\n",
       "    <tr style=\"text-align: right;\">\n",
       "      <th></th>\n",
       "      <th>CLAC3_NM</th>\n",
       "      <th>CLAC2_NM</th>\n",
       "      <th>CLAC1_NM</th>\n",
       "      <th>AGE10</th>\n",
       "      <th>AGE20</th>\n",
       "      <th>AGE30</th>\n",
       "      <th>AGE40</th>\n",
       "      <th>AGE50</th>\n",
       "      <th>AGE60</th>\n",
       "      <th>AGE70</th>\n",
       "      <th>AGE80</th>\n",
       "    </tr>\n",
       "  </thead>\n",
       "  <tbody>\n",
       "    <tr>\n",
       "      <th>0</th>\n",
       "      <td>2단우산</td>\n",
       "      <td>우산/양산류</td>\n",
       "      <td>패션잡화</td>\n",
       "      <td>0.0</td>\n",
       "      <td>2.0</td>\n",
       "      <td>36.0</td>\n",
       "      <td>111.0</td>\n",
       "      <td>13.0</td>\n",
       "      <td>0.0</td>\n",
       "      <td>0.0</td>\n",
       "      <td>0.0</td>\n",
       "    </tr>\n",
       "    <tr>\n",
       "      <th>1</th>\n",
       "      <td>3단우산</td>\n",
       "      <td>우산/양산류</td>\n",
       "      <td>패션잡화</td>\n",
       "      <td>1.0</td>\n",
       "      <td>57.0</td>\n",
       "      <td>380.0</td>\n",
       "      <td>657.0</td>\n",
       "      <td>94.0</td>\n",
       "      <td>8.0</td>\n",
       "      <td>1.0</td>\n",
       "      <td>0.0</td>\n",
       "    </tr>\n",
       "    <tr>\n",
       "      <th>2</th>\n",
       "      <td>BB/파운데이션/컴팩트류</td>\n",
       "      <td>메이크업</td>\n",
       "      <td>화장품/뷰티케어</td>\n",
       "      <td>349.0</td>\n",
       "      <td>12038.0</td>\n",
       "      <td>24446.0</td>\n",
       "      <td>15892.0</td>\n",
       "      <td>2627.0</td>\n",
       "      <td>347.0</td>\n",
       "      <td>37.0</td>\n",
       "      <td>6.0</td>\n",
       "    </tr>\n",
       "    <tr>\n",
       "      <th>3</th>\n",
       "      <td>DIY가구</td>\n",
       "      <td>시공/DIY가구</td>\n",
       "      <td>가구</td>\n",
       "      <td>0.0</td>\n",
       "      <td>0.0</td>\n",
       "      <td>648.0</td>\n",
       "      <td>444.0</td>\n",
       "      <td>231.0</td>\n",
       "      <td>0.0</td>\n",
       "      <td>0.0</td>\n",
       "      <td>0.0</td>\n",
       "    </tr>\n",
       "    <tr>\n",
       "      <th>4</th>\n",
       "      <td>DIY완구</td>\n",
       "      <td>여아완구</td>\n",
       "      <td>완구</td>\n",
       "      <td>0.0</td>\n",
       "      <td>0.0</td>\n",
       "      <td>0.0</td>\n",
       "      <td>0.0</td>\n",
       "      <td>0.0</td>\n",
       "      <td>0.0</td>\n",
       "      <td>0.0</td>\n",
       "      <td>0.0</td>\n",
       "    </tr>\n",
       "  </tbody>\n",
       "</table>\n",
       "</div>"
      ],
      "text/plain": [
       "        CLAC3_NM  CLAC2_NM  CLAC1_NM  AGE10    AGE20    AGE30    AGE40  \\\n",
       "0           2단우산    우산/양산류      패션잡화    0.0      2.0     36.0    111.0   \n",
       "1           3단우산    우산/양산류      패션잡화    1.0     57.0    380.0    657.0   \n",
       "2  BB/파운데이션/컴팩트류      메이크업  화장품/뷰티케어  349.0  12038.0  24446.0  15892.0   \n",
       "3          DIY가구  시공/DIY가구        가구    0.0      0.0    648.0    444.0   \n",
       "4          DIY완구      여아완구        완구    0.0      0.0      0.0      0.0   \n",
       "\n",
       "    AGE50  AGE60  AGE70  AGE80  \n",
       "0    13.0    0.0    0.0    0.0  \n",
       "1    94.0    8.0    1.0    0.0  \n",
       "2  2627.0  347.0   37.0    6.0  \n",
       "3   231.0    0.0    0.0    0.0  \n",
       "4     0.0    0.0    0.0    0.0  "
      ]
     },
     "execution_count": 6,
     "metadata": {},
     "output_type": "execute_result"
    }
   ],
   "source": [
    "age.head()"
   ]
  },
  {
   "cell_type": "code",
   "execution_count": 7,
   "metadata": {},
   "outputs": [
    {
     "name": "stderr",
     "output_type": "stream",
     "text": [
      "/Users/YiYoung/anaconda3/lib/python3.6/site-packages/ipykernel_launcher.py:1: SettingWithCopyWarning: \n",
      "A value is trying to be set on a copy of a slice from a DataFrame.\n",
      "Try using .loc[row_indexer,col_indexer] = value instead\n",
      "\n",
      "See the caveats in the documentation: http://pandas.pydata.org/pandas-docs/stable/indexing.html#indexing-view-versus-copy\n",
      "  \"\"\"Entry point for launching an IPython kernel.\n",
      "/Users/YiYoung/anaconda3/lib/python3.6/site-packages/ipykernel_launcher.py:7: SettingWithCopyWarning: \n",
      "A value is trying to be set on a copy of a slice from a DataFrame.\n",
      "Try using .loc[row_indexer,col_indexer] = value instead\n",
      "\n",
      "See the caveats in the documentation: http://pandas.pydata.org/pandas-docs/stable/indexing.html#indexing-view-versus-copy\n",
      "  import sys\n"
     ]
    }
   ],
   "source": [
    "age['category_name'] = age['CLAC3_NM'] + ' < '+ age['CLAC2_NM'] + ' < ' + age['CLAC1_NM']\n",
    "temp = [0 for i in range(len(age))]\n",
    "\n",
    "for ind in range(10,90,10):\n",
    "    temp += age['AGE%d'%ind] \n",
    "\n",
    "age['sum']=temp"
   ]
  },
  {
   "cell_type": "code",
   "execution_count": 8,
   "metadata": {},
   "outputs": [
    {
     "data": {
      "text/html": [
       "<div>\n",
       "<style scoped>\n",
       "    .dataframe tbody tr th:only-of-type {\n",
       "        vertical-align: middle;\n",
       "    }\n",
       "\n",
       "    .dataframe tbody tr th {\n",
       "        vertical-align: top;\n",
       "    }\n",
       "\n",
       "    .dataframe thead th {\n",
       "        text-align: right;\n",
       "    }\n",
       "</style>\n",
       "<table border=\"1\" class=\"dataframe\">\n",
       "  <thead>\n",
       "    <tr style=\"text-align: right;\">\n",
       "      <th></th>\n",
       "      <th>CLAC3_NM</th>\n",
       "      <th>CLAC2_NM</th>\n",
       "      <th>CLAC1_NM</th>\n",
       "      <th>AGE10</th>\n",
       "      <th>AGE20</th>\n",
       "      <th>AGE30</th>\n",
       "      <th>AGE40</th>\n",
       "      <th>AGE50</th>\n",
       "      <th>AGE60</th>\n",
       "      <th>AGE70</th>\n",
       "      <th>AGE80</th>\n",
       "      <th>category_name</th>\n",
       "      <th>sum</th>\n",
       "    </tr>\n",
       "  </thead>\n",
       "  <tbody>\n",
       "    <tr>\n",
       "      <th>0</th>\n",
       "      <td>2단우산</td>\n",
       "      <td>우산/양산류</td>\n",
       "      <td>패션잡화</td>\n",
       "      <td>0.0</td>\n",
       "      <td>2.0</td>\n",
       "      <td>36.0</td>\n",
       "      <td>111.0</td>\n",
       "      <td>13.0</td>\n",
       "      <td>0.0</td>\n",
       "      <td>0.0</td>\n",
       "      <td>0.0</td>\n",
       "      <td>2단우산 &lt; 우산/양산류 &lt; 패션잡화</td>\n",
       "      <td>162.0</td>\n",
       "    </tr>\n",
       "    <tr>\n",
       "      <th>1</th>\n",
       "      <td>3단우산</td>\n",
       "      <td>우산/양산류</td>\n",
       "      <td>패션잡화</td>\n",
       "      <td>1.0</td>\n",
       "      <td>57.0</td>\n",
       "      <td>380.0</td>\n",
       "      <td>657.0</td>\n",
       "      <td>94.0</td>\n",
       "      <td>8.0</td>\n",
       "      <td>1.0</td>\n",
       "      <td>0.0</td>\n",
       "      <td>3단우산 &lt; 우산/양산류 &lt; 패션잡화</td>\n",
       "      <td>1198.0</td>\n",
       "    </tr>\n",
       "    <tr>\n",
       "      <th>2</th>\n",
       "      <td>BB/파운데이션/컴팩트류</td>\n",
       "      <td>메이크업</td>\n",
       "      <td>화장품/뷰티케어</td>\n",
       "      <td>349.0</td>\n",
       "      <td>12038.0</td>\n",
       "      <td>24446.0</td>\n",
       "      <td>15892.0</td>\n",
       "      <td>2627.0</td>\n",
       "      <td>347.0</td>\n",
       "      <td>37.0</td>\n",
       "      <td>6.0</td>\n",
       "      <td>BB/파운데이션/컴팩트류 &lt; 메이크업 &lt; 화장품/뷰티케어</td>\n",
       "      <td>55742.0</td>\n",
       "    </tr>\n",
       "    <tr>\n",
       "      <th>3</th>\n",
       "      <td>DIY가구</td>\n",
       "      <td>시공/DIY가구</td>\n",
       "      <td>가구</td>\n",
       "      <td>0.0</td>\n",
       "      <td>0.0</td>\n",
       "      <td>648.0</td>\n",
       "      <td>444.0</td>\n",
       "      <td>231.0</td>\n",
       "      <td>0.0</td>\n",
       "      <td>0.0</td>\n",
       "      <td>0.0</td>\n",
       "      <td>DIY가구 &lt; 시공/DIY가구 &lt; 가구</td>\n",
       "      <td>1323.0</td>\n",
       "    </tr>\n",
       "    <tr>\n",
       "      <th>4</th>\n",
       "      <td>DIY완구</td>\n",
       "      <td>여아완구</td>\n",
       "      <td>완구</td>\n",
       "      <td>0.0</td>\n",
       "      <td>0.0</td>\n",
       "      <td>0.0</td>\n",
       "      <td>0.0</td>\n",
       "      <td>0.0</td>\n",
       "      <td>0.0</td>\n",
       "      <td>0.0</td>\n",
       "      <td>0.0</td>\n",
       "      <td>DIY완구 &lt; 여아완구 &lt; 완구</td>\n",
       "      <td>0.0</td>\n",
       "    </tr>\n",
       "  </tbody>\n",
       "</table>\n",
       "</div>"
      ],
      "text/plain": [
       "        CLAC3_NM  CLAC2_NM  CLAC1_NM  AGE10    AGE20    AGE30    AGE40  \\\n",
       "0           2단우산    우산/양산류      패션잡화    0.0      2.0     36.0    111.0   \n",
       "1           3단우산    우산/양산류      패션잡화    1.0     57.0    380.0    657.0   \n",
       "2  BB/파운데이션/컴팩트류      메이크업  화장품/뷰티케어  349.0  12038.0  24446.0  15892.0   \n",
       "3          DIY가구  시공/DIY가구        가구    0.0      0.0    648.0    444.0   \n",
       "4          DIY완구      여아완구        완구    0.0      0.0      0.0      0.0   \n",
       "\n",
       "    AGE50  AGE60  AGE70  AGE80                    category_name      sum  \n",
       "0    13.0    0.0    0.0    0.0             2단우산 < 우산/양산류 < 패션잡화    162.0  \n",
       "1    94.0    8.0    1.0    0.0             3단우산 < 우산/양산류 < 패션잡화   1198.0  \n",
       "2  2627.0  347.0   37.0    6.0  BB/파운데이션/컴팩트류 < 메이크업 < 화장품/뷰티케어  55742.0  \n",
       "3   231.0    0.0    0.0    0.0            DIY가구 < 시공/DIY가구 < 가구   1323.0  \n",
       "4     0.0    0.0    0.0    0.0                DIY완구 < 여아완구 < 완구      0.0  "
      ]
     },
     "execution_count": 8,
     "metadata": {},
     "output_type": "execute_result"
    }
   ],
   "source": [
    "age.head()"
   ]
  },
  {
   "cell_type": "code",
   "execution_count": 9,
   "metadata": {},
   "outputs": [],
   "source": [
    "age = age.sort_values(['CLAC1_NM','CLAC2_NM','sum'])"
   ]
  },
  {
   "cell_type": "code",
   "execution_count": 20,
   "metadata": {},
   "outputs": [
    {
     "data": {
      "image/png": "[encoded data removed]",
      "text/plain": [
       "<Figure size 720x1440 with 8 Axes>"
      ]
     },
     "metadata": {
      "needs_background": "light"
     },
     "output_type": "display_data"
    }
   ],
   "source": [
    "\n",
    "fig, axes = plt.subplots(4,2, figsize=(10,20), sharex=True, sharey=True)\n",
    "ax = axes.ravel()\n",
    "X = range(len(age))\n",
    "i = 0\n",
    "for ind in range(10,90,10):\n",
    "    ax[i].bar(X,age['AGE%d'%ind])\n",
    "    \n",
    "    ax[i].set_xlabel('카테고리 소분류명')\n",
    "    ax[i].set_ylabel('%d대 판매량'%ind)\n",
    "    i += 1\n",
    "    \n",
    "pylab.savefig('소분류 연령별 판매량.png')"
   ]
  },
  {
   "cell_type": "code",
   "execution_count": null,
   "metadata": {},
   "outputs": [],
   "source": []
  }
 ],
 "metadata": {
  "kernelspec": {
   "display_name": "Python 3",
   "language": "python",
   "name": "python3"
  },
  "language_info": {
   "codemirror_mode": {
    "name": "ipython",
    "version": 3
   },
   "file_extension": ".py",
   "mimetype": "text/x-python",
   "name": "python",
   "nbconvert_exporter": "python",
   "pygments_lexer": "ipython3",
   "version": "3.6.6"
  }
 },
 "nbformat": 4,
 "nbformat_minor": 2
}
