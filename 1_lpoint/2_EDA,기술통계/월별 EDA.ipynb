{
 "cells": [
  {
   "cell_type": "code",
   "execution_count": 1,
   "metadata": {},
   "outputs": [],
   "source": [
    "import pandas as pd\n",
    "import numpy as np\n",
    "import matplotlib.pyplot as plt\n",
    "from matplotlib import rc\n",
    "\n",
    "import pylab \n",
    "\n",
    "data = pd.read_csv('podol_final2.csv')\n",
    "data = data.drop(columns='Unnamed: 0')\n",
    "data=data.fillna(0)"
   ]
  },
  {
   "cell_type": "code",
   "execution_count": 2,
   "metadata": {},
   "outputs": [
    {
     "name": "stdout",
     "output_type": "stream",
     "text": [
      "AppleGothic\n"
     ]
    }
   ],
   "source": [
    "%matplotlib inline\n",
    "import matplotlib.pyplot as plt\n",
    "import seaborn as sns\n",
    "from matplotlib import font_manager\n",
    "\n",
    "font_name = font_manager.FontProperties(fname = \"/Library/Fonts/AppleGothic.ttf\").get_name()\n",
    "print(font_name)\n",
    "\n",
    "plt.rcParams[\"font.family\"] = font_name\n",
    "plt.rcParams['axes.unicode_minus'] = False"
   ]
  },
  {
   "cell_type": "code",
   "execution_count": 4,
   "metadata": {},
   "outputs": [
    {
     "data": {
      "text/plain": [
       "Index(['CLAC3_NM', 'CLAC2_NM', 'CLAC1_NM', 'NUM_PD_C', 'NUM_CLNT_ID',\n",
       "       'NUM_CLSE_ID', 'NUM_BRA_NM', 'TOT_HITS', 'TOT_PROFIT', 'TOT_SALES',\n",
       "       'AVG_HITS', 'AVG_PROFIT', 'F', 'M', 'AGE10', 'AGE20', 'AGE30', 'AGE40',\n",
       "       'AGE50', 'AGE60', 'AGE70', 'AGE80', 'TOT_SESS_SEQ', 'TOT_PAGE_VIEW',\n",
       "       'TOT_SESS_HOUR', 'AVG_SESS_SEQ', 'AVG_PAGE_VIEW', 'AVG_SESS_HOUR',\n",
       "       'mobile', 'desktop', 'tablet', 'April', 'May', 'June', 'July', 'August',\n",
       "       'September', 'ZON_Daejeon', 'ZON_Busan', 'ZON_Gyeonggi-do'],\n",
       "      dtype='object')"
      ]
     },
     "execution_count": 4,
     "metadata": {},
     "output_type": "execute_result"
    }
   ],
   "source": [
    "data.columns[:40]"
   ]
  },
  {
   "cell_type": "code",
   "execution_count": 8,
   "metadata": {},
   "outputs": [],
   "source": [
    "ind=list(range(0,3))+list(range(31,37))"
   ]
  },
  {
   "cell_type": "code",
   "execution_count": 9,
   "metadata": {},
   "outputs": [],
   "source": [
    "month = data.iloc[:,ind]"
   ]
  },
  {
   "cell_type": "code",
   "execution_count": 10,
   "metadata": {},
   "outputs": [
    {
     "data": {
      "text/html": [
       "<div>\n",
       "<style scoped>\n",
       "    .dataframe tbody tr th:only-of-type {\n",
       "        vertical-align: middle;\n",
       "    }\n",
       "\n",
       "    .dataframe tbody tr th {\n",
       "        vertical-align: top;\n",
       "    }\n",
       "\n",
       "    .dataframe thead th {\n",
       "        text-align: right;\n",
       "    }\n",
       "</style>\n",
       "<table border=\"1\" class=\"dataframe\">\n",
       "  <thead>\n",
       "    <tr style=\"text-align: right;\">\n",
       "      <th></th>\n",
       "      <th>CLAC3_NM</th>\n",
       "      <th>CLAC2_NM</th>\n",
       "      <th>CLAC1_NM</th>\n",
       "      <th>April</th>\n",
       "      <th>May</th>\n",
       "      <th>June</th>\n",
       "      <th>July</th>\n",
       "      <th>August</th>\n",
       "      <th>September</th>\n",
       "    </tr>\n",
       "  </thead>\n",
       "  <tbody>\n",
       "    <tr>\n",
       "      <th>0</th>\n",
       "      <td>2단우산</td>\n",
       "      <td>우산/양산류</td>\n",
       "      <td>패션잡화</td>\n",
       "      <td>66.0</td>\n",
       "      <td>44.0</td>\n",
       "      <td>46.0</td>\n",
       "      <td>30.0</td>\n",
       "      <td>16.0</td>\n",
       "      <td>4.0</td>\n",
       "    </tr>\n",
       "    <tr>\n",
       "      <th>1</th>\n",
       "      <td>3단우산</td>\n",
       "      <td>우산/양산류</td>\n",
       "      <td>패션잡화</td>\n",
       "      <td>442.0</td>\n",
       "      <td>364.0</td>\n",
       "      <td>267.0</td>\n",
       "      <td>247.0</td>\n",
       "      <td>196.0</td>\n",
       "      <td>121.0</td>\n",
       "    </tr>\n",
       "    <tr>\n",
       "      <th>2</th>\n",
       "      <td>BB/파운데이션/컴팩트류</td>\n",
       "      <td>메이크업</td>\n",
       "      <td>화장품/뷰티케어</td>\n",
       "      <td>11386.0</td>\n",
       "      <td>13304.0</td>\n",
       "      <td>12012.0</td>\n",
       "      <td>11251.0</td>\n",
       "      <td>11471.0</td>\n",
       "      <td>9993.0</td>\n",
       "    </tr>\n",
       "    <tr>\n",
       "      <th>3</th>\n",
       "      <td>DIY가구</td>\n",
       "      <td>시공/DIY가구</td>\n",
       "      <td>가구</td>\n",
       "      <td>61.0</td>\n",
       "      <td>406.0</td>\n",
       "      <td>550.0</td>\n",
       "      <td>214.0</td>\n",
       "      <td>166.0</td>\n",
       "      <td>143.0</td>\n",
       "    </tr>\n",
       "    <tr>\n",
       "      <th>4</th>\n",
       "      <td>DIY완구</td>\n",
       "      <td>여아완구</td>\n",
       "      <td>완구</td>\n",
       "      <td>0.0</td>\n",
       "      <td>0.0</td>\n",
       "      <td>0.0</td>\n",
       "      <td>0.0</td>\n",
       "      <td>0.0</td>\n",
       "      <td>2.0</td>\n",
       "    </tr>\n",
       "  </tbody>\n",
       "</table>\n",
       "</div>"
      ],
      "text/plain": [
       "        CLAC3_NM  CLAC2_NM  CLAC1_NM    April      May     June     July  \\\n",
       "0           2단우산    우산/양산류      패션잡화     66.0     44.0     46.0     30.0   \n",
       "1           3단우산    우산/양산류      패션잡화    442.0    364.0    267.0    247.0   \n",
       "2  BB/파운데이션/컴팩트류      메이크업  화장품/뷰티케어  11386.0  13304.0  12012.0  11251.0   \n",
       "3          DIY가구  시공/DIY가구        가구     61.0    406.0    550.0    214.0   \n",
       "4          DIY완구      여아완구        완구      0.0      0.0      0.0      0.0   \n",
       "\n",
       "    August  September  \n",
       "0     16.0        4.0  \n",
       "1    196.0      121.0  \n",
       "2  11471.0     9993.0  \n",
       "3    166.0      143.0  \n",
       "4      0.0        2.0  "
      ]
     },
     "execution_count": 10,
     "metadata": {},
     "output_type": "execute_result"
    }
   ],
   "source": [
    "month.head()"
   ]
  },
  {
   "cell_type": "markdown",
   "metadata": {},
   "source": [
    "## 대분류 카테고리별 판매량"
   ]
  },
  {
   "cell_type": "code",
   "execution_count": 11,
   "metadata": {},
   "outputs": [],
   "source": [
    "month1 = month.groupby('CLAC1_NM').sum()\n",
    "month1.reset_index()"
   ]
  },
  {
   "cell_type": "code",
   "execution_count": 12,
   "metadata": {},
   "outputs": [
    {
     "data": {
      "text/html": [
       "<div>\n",
       "<style scoped>\n",
       "    .dataframe tbody tr th:only-of-type {\n",
       "        vertical-align: middle;\n",
       "    }\n",
       "\n",
       "    .dataframe tbody tr th {\n",
       "        vertical-align: top;\n",
       "    }\n",
       "\n",
       "    .dataframe thead th {\n",
       "        text-align: right;\n",
       "    }\n",
       "</style>\n",
       "<table border=\"1\" class=\"dataframe\">\n",
       "  <thead>\n",
       "    <tr style=\"text-align: right;\">\n",
       "      <th></th>\n",
       "      <th>April</th>\n",
       "      <th>May</th>\n",
       "      <th>June</th>\n",
       "      <th>July</th>\n",
       "      <th>August</th>\n",
       "      <th>September</th>\n",
       "    </tr>\n",
       "    <tr>\n",
       "      <th>CLAC1_NM</th>\n",
       "      <th></th>\n",
       "      <th></th>\n",
       "      <th></th>\n",
       "      <th></th>\n",
       "      <th></th>\n",
       "      <th></th>\n",
       "    </tr>\n",
       "  </thead>\n",
       "  <tbody>\n",
       "    <tr>\n",
       "      <th>가구</th>\n",
       "      <td>10210.0</td>\n",
       "      <td>9565.0</td>\n",
       "      <td>9993.0</td>\n",
       "      <td>7779.0</td>\n",
       "      <td>8273.0</td>\n",
       "      <td>8492.0</td>\n",
       "    </tr>\n",
       "    <tr>\n",
       "      <th>건강식품</th>\n",
       "      <td>26856.0</td>\n",
       "      <td>28580.0</td>\n",
       "      <td>23155.0</td>\n",
       "      <td>24026.0</td>\n",
       "      <td>26031.0</td>\n",
       "      <td>40330.0</td>\n",
       "    </tr>\n",
       "    <tr>\n",
       "      <th>계절가전</th>\n",
       "      <td>721.0</td>\n",
       "      <td>2194.0</td>\n",
       "      <td>3938.0</td>\n",
       "      <td>6322.0</td>\n",
       "      <td>2112.0</td>\n",
       "      <td>161.0</td>\n",
       "    </tr>\n",
       "    <tr>\n",
       "      <th>과일</th>\n",
       "      <td>7017.0</td>\n",
       "      <td>5307.0</td>\n",
       "      <td>5144.0</td>\n",
       "      <td>4954.0</td>\n",
       "      <td>5714.0</td>\n",
       "      <td>12077.0</td>\n",
       "    </tr>\n",
       "    <tr>\n",
       "      <th>구기/필드스포츠</th>\n",
       "      <td>7220.0</td>\n",
       "      <td>8093.0</td>\n",
       "      <td>8187.0</td>\n",
       "      <td>6937.0</td>\n",
       "      <td>6405.0</td>\n",
       "      <td>5897.0</td>\n",
       "    </tr>\n",
       "  </tbody>\n",
       "</table>\n",
       "</div>"
      ],
      "text/plain": [
       "            April      May     June     July   August  September\n",
       "CLAC1_NM                                                        \n",
       "가구        10210.0   9565.0   9993.0   7779.0   8273.0     8492.0\n",
       "건강식품      26856.0  28580.0  23155.0  24026.0  26031.0    40330.0\n",
       "계절가전        721.0   2194.0   3938.0   6322.0   2112.0      161.0\n",
       "과일         7017.0   5307.0   5144.0   4954.0   5714.0    12077.0\n",
       "구기/필드스포츠   7220.0   8093.0   8187.0   6937.0   6405.0     5897.0"
      ]
     },
     "execution_count": 12,
     "metadata": {},
     "output_type": "execute_result"
    }
   ],
   "source": [
    "month1.head()"
   ]
  },
  {
   "cell_type": "code",
   "execution_count": 27,
   "metadata": {},
   "outputs": [
    {
     "data": {
      "image/png": "[encoded data removed]",
      "text/plain": [
       "<Figure size 1440x1440 with 6 Axes>"
      ]
     },
     "metadata": {
      "needs_background": "light"
     },
     "output_type": "display_data"
    }
   ],
   "source": [
    "\n",
    "fig, axes = plt.subplots(3,2, figsize=(20,20), sharex=True, sharey=True)\n",
    "ax = axes.ravel()\n",
    "X = range(len(month1))\n",
    "\n",
    "for i in range(6):\n",
    "    ax[i].bar(X,month1.iloc[:,i])\n",
    "    ax[i].set_xlabel('카테고리 대분류명')\n",
    "    ax[i].set_ylabel('%d별 판매량'%(i+4))\n",
    "    #plt.xticks(range(len(gender['category_name'].unique())), np.asarray(month1.index), rotation =90)\n",
    "    ax[i].set_xticklabels(np.asarray(month1.index),rotation =90,minor=False)\n",
    "pylab.savefig('대분류 월별 판매량.png')"
   ]
  },
  {
   "cell_type": "code",
   "execution_count": null,
   "metadata": {},
   "outputs": [],
   "source": []
  },
  {
   "cell_type": "code",
   "execution_count": null,
   "metadata": {},
   "outputs": [],
   "source": []
  }
 ],
 "metadata": {
  "kernelspec": {
   "display_name": "Python 3",
   "language": "python",
   "name": "python3"
  },
  "language_info": {
   "codemirror_mode": {
    "name": "ipython",
    "version": 3
   },
   "file_extension": ".py",
   "mimetype": "text/x-python",
   "name": "python",
   "nbconvert_exporter": "python",
   "pygments_lexer": "ipython3",
   "version": "3.6.6"
  }
 },
 "nbformat": 4,
 "nbformat_minor": 2
}
