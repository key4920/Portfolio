{
 "cells": [
  {
   "cell_type": "code",
   "execution_count": 274,
   "metadata": {},
   "outputs": [],
   "source": [
    "import urllib.request\n",
    "from bs4 import BeautifulSoup\n",
    "import pandas as pd\n",
    "import datetime\n",
    "import csv\n",
    "\n",
    "from itertools import count\n",
    "ctg1 = pd.read_csv('./날씨, 미세먼지 크롤링/ctg1.csv')\n",
    "ctg2 = pd.read_csv('parent_ctg2.csv')\n",
    "ctg3 = pd.read_csv('parent2_ctg3.csv')"
   ]
  },
  {
   "cell_type": "code",
   "execution_count": 275,
   "metadata": {},
   "outputs": [
    {
     "data": {
      "text/html": [
       "<div>\n",
       "<style scoped>\n",
       "    .dataframe tbody tr th:only-of-type {\n",
       "        vertical-align: middle;\n",
       "    }\n",
       "\n",
       "    .dataframe tbody tr th {\n",
       "        vertical-align: top;\n",
       "    }\n",
       "\n",
       "    .dataframe thead th {\n",
       "        text-align: right;\n",
       "    }\n",
       "</style>\n",
       "<table border=\"1\" class=\"dataframe\">\n",
       "  <thead>\n",
       "    <tr style=\"text-align: right;\">\n",
       "      <th></th>\n",
       "      <th>ctg1</th>\n",
       "      <th>id</th>\n",
       "    </tr>\n",
       "  </thead>\n",
       "  <tbody>\n",
       "    <tr>\n",
       "      <th>0</th>\n",
       "      <td>패션의류</td>\n",
       "      <td>50000000</td>\n",
       "    </tr>\n",
       "    <tr>\n",
       "      <th>1</th>\n",
       "      <td>패션잡화</td>\n",
       "      <td>50000001</td>\n",
       "    </tr>\n",
       "    <tr>\n",
       "      <th>2</th>\n",
       "      <td>화장품/미용</td>\n",
       "      <td>50000002</td>\n",
       "    </tr>\n",
       "    <tr>\n",
       "      <th>3</th>\n",
       "      <td>디지털/가전</td>\n",
       "      <td>50000003</td>\n",
       "    </tr>\n",
       "    <tr>\n",
       "      <th>4</th>\n",
       "      <td>가구/인테리어</td>\n",
       "      <td>50000004</td>\n",
       "    </tr>\n",
       "  </tbody>\n",
       "</table>\n",
       "</div>"
      ],
      "text/plain": [
       "      ctg1        id\n",
       "0     패션의류  50000000\n",
       "1     패션잡화  50000001\n",
       "2   화장품/미용  50000002\n",
       "3   디지털/가전  50000003\n",
       "4  가구/인테리어  50000004"
      ]
     },
     "execution_count": 275,
     "metadata": {},
     "output_type": "execute_result"
    }
   ],
   "source": [
    "ctg1.head()"
   ]
  },
  {
   "cell_type": "code",
   "execution_count": 276,
   "metadata": {},
   "outputs": [
    {
     "data": {
      "text/plain": [
       "array([50000000, 50000001, 50000002, 50000003, 50000004, 50000005,\n",
       "       50000006, 50000150, 50000007, 50000008, 50000009, 50000010])"
      ]
     },
     "execution_count": 276,
     "metadata": {},
     "output_type": "execute_result"
    }
   ],
   "source": [
    "ctg2['parent_id'].unique()"
   ]
  },
  {
   "cell_type": "markdown",
   "metadata": {},
   "source": [
    "## 쿠키박스 정제"
   ]
  },
  {
   "cell_type": "code",
   "execution_count": 277,
   "metadata": {},
   "outputs": [
    {
     "data": {
      "text/html": [
       "<div>\n",
       "<style scoped>\n",
       "    .dataframe tbody tr th:only-of-type {\n",
       "        vertical-align: middle;\n",
       "    }\n",
       "\n",
       "    .dataframe tbody tr th {\n",
       "        vertical-align: top;\n",
       "    }\n",
       "\n",
       "    .dataframe thead th {\n",
       "        text-align: right;\n",
       "    }\n",
       "</style>\n",
       "<table border=\"1\" class=\"dataframe\">\n",
       "  <thead>\n",
       "    <tr style=\"text-align: right;\">\n",
       "      <th></th>\n",
       "      <th>ctg2</th>\n",
       "      <th>id</th>\n",
       "      <th>parent_id</th>\n",
       "    </tr>\n",
       "  </thead>\n",
       "  <tbody>\n",
       "    <tr>\n",
       "      <th>123</th>\n",
       "      <td>쿠킹박스</td>\n",
       "      <td>50006808</td>\n",
       "      <td>50000150</td>\n",
       "    </tr>\n",
       "  </tbody>\n",
       "</table>\n",
       "</div>"
      ],
      "text/plain": [
       "     ctg2        id  parent_id\n",
       "123  쿠킹박스  50006808   50000150"
      ]
     },
     "execution_count": 277,
     "metadata": {},
     "output_type": "execute_result"
    }
   ],
   "source": [
    "ctg2[ctg2['parent_id']==50000150]"
   ]
  },
  {
   "cell_type": "code",
   "execution_count": 278,
   "metadata": {},
   "outputs": [],
   "source": [
    "cookingbox = list(ctg2[ctg2['parent_id']==50000150].iloc[0])"
   ]
  },
  {
   "cell_type": "code",
   "execution_count": 279,
   "metadata": {},
   "outputs": [
    {
     "data": {
      "text/plain": [
       "['쿠킹박스', 50006808, 50000150]"
      ]
     },
     "execution_count": 279,
     "metadata": {},
     "output_type": "execute_result"
    }
   ],
   "source": [
    "cookingbox"
   ]
  },
  {
   "cell_type": "code",
   "execution_count": 280,
   "metadata": {},
   "outputs": [],
   "source": [
    "ctg3.loc[len(ctg3)] = cookingbox"
   ]
  },
  {
   "cell_type": "code",
   "execution_count": 281,
   "metadata": {},
   "outputs": [
    {
     "data": {
      "text/plain": [
       "ctg3             쿠킹박스\n",
       "id           50006808\n",
       "parent_id    50000150\n",
       "Name: 1814, dtype: object"
      ]
     },
     "execution_count": 281,
     "metadata": {},
     "output_type": "execute_result"
    }
   ],
   "source": [
    "ctg3.loc[1814]"
   ]
  },
  {
   "cell_type": "code",
   "execution_count": 282,
   "metadata": {},
   "outputs": [],
   "source": [
    "ctg2 = ctg2[ctg2['ctg2']!='쿠킹박스']"
   ]
  },
  {
   "cell_type": "code",
   "execution_count": 283,
   "metadata": {},
   "outputs": [
    {
     "data": {
      "text/html": [
       "<div>\n",
       "<style scoped>\n",
       "    .dataframe tbody tr th:only-of-type {\n",
       "        vertical-align: middle;\n",
       "    }\n",
       "\n",
       "    .dataframe tbody tr th {\n",
       "        vertical-align: top;\n",
       "    }\n",
       "\n",
       "    .dataframe thead th {\n",
       "        text-align: right;\n",
       "    }\n",
       "</style>\n",
       "<table border=\"1\" class=\"dataframe\">\n",
       "  <thead>\n",
       "    <tr style=\"text-align: right;\">\n",
       "      <th></th>\n",
       "      <th>ctg2</th>\n",
       "      <th>id</th>\n",
       "      <th>parent_id</th>\n",
       "    </tr>\n",
       "  </thead>\n",
       "  <tbody>\n",
       "  </tbody>\n",
       "</table>\n",
       "</div>"
      ],
      "text/plain": [
       "Empty DataFrame\n",
       "Columns: [ctg2, id, parent_id]\n",
       "Index: []"
      ]
     },
     "execution_count": 283,
     "metadata": {},
     "output_type": "execute_result"
    }
   ],
   "source": [
    "ctg2[ctg2['ctg2']=='쿠킹박스']"
   ]
  },
  {
   "cell_type": "code",
   "execution_count": 285,
   "metadata": {},
   "outputs": [
    {
     "data": {
      "text/html": [
       "<div>\n",
       "<style scoped>\n",
       "    .dataframe tbody tr th:only-of-type {\n",
       "        vertical-align: middle;\n",
       "    }\n",
       "\n",
       "    .dataframe tbody tr th {\n",
       "        vertical-align: top;\n",
       "    }\n",
       "\n",
       "    .dataframe thead th {\n",
       "        text-align: right;\n",
       "    }\n",
       "</style>\n",
       "<table border=\"1\" class=\"dataframe\">\n",
       "  <thead>\n",
       "    <tr style=\"text-align: right;\">\n",
       "      <th></th>\n",
       "      <th>ctg2</th>\n",
       "      <th>id</th>\n",
       "      <th>parent_id</th>\n",
       "    </tr>\n",
       "  </thead>\n",
       "  <tbody>\n",
       "    <tr>\n",
       "      <th>48</th>\n",
       "      <td>노트북</td>\n",
       "      <td>50000151</td>\n",
       "      <td>50000003</td>\n",
       "    </tr>\n",
       "  </tbody>\n",
       "</table>\n",
       "</div>"
      ],
      "text/plain": [
       "   ctg2        id  parent_id\n",
       "48  노트북  50000151   50000003"
      ]
     },
     "execution_count": 285,
     "metadata": {},
     "output_type": "execute_result"
    }
   ],
   "source": [
    "ctg2[ctg2['ctg2']=='노트북']"
   ]
  },
  {
   "cell_type": "code",
   "execution_count": 284,
   "metadata": {},
   "outputs": [
    {
     "data": {
      "text/plain": [
       "204"
      ]
     },
     "execution_count": 284,
     "metadata": {},
     "output_type": "execute_result"
    }
   ],
   "source": [
    "len(ctg2)"
   ]
  },
  {
   "cell_type": "code",
   "execution_count": null,
   "metadata": {},
   "outputs": [],
   "source": []
  },
  {
   "cell_type": "code",
   "execution_count": null,
   "metadata": {},
   "outputs": [],
   "source": []
  },
  {
   "cell_type": "markdown",
   "metadata": {},
   "source": [
    "## 수영복 정제"
   ]
  },
  {
   "cell_type": "code",
   "execution_count": 286,
   "metadata": {},
   "outputs": [
    {
     "name": "stdout",
     "output_type": "stream",
     "text": [
      "50000005\n"
     ]
    }
   ],
   "source": [
    "for i in ctg3['parent_id']:\n",
    "    if i in ctg1['id'].unique():\n",
    "        print(i)"
   ]
  },
  {
   "cell_type": "code",
   "execution_count": 287,
   "metadata": {},
   "outputs": [
    {
     "data": {
      "text/html": [
       "<div>\n",
       "<style scoped>\n",
       "    .dataframe tbody tr th:only-of-type {\n",
       "        vertical-align: middle;\n",
       "    }\n",
       "\n",
       "    .dataframe tbody tr th {\n",
       "        vertical-align: top;\n",
       "    }\n",
       "\n",
       "    .dataframe thead th {\n",
       "        text-align: right;\n",
       "    }\n",
       "</style>\n",
       "<table border=\"1\" class=\"dataframe\">\n",
       "  <thead>\n",
       "    <tr style=\"text-align: right;\">\n",
       "      <th></th>\n",
       "      <th>ctg3</th>\n",
       "      <th>id</th>\n",
       "      <th>parent_id</th>\n",
       "    </tr>\n",
       "  </thead>\n",
       "  <tbody>\n",
       "    <tr>\n",
       "      <th>80</th>\n",
       "      <td>수영복/용품</td>\n",
       "      <td>50000140</td>\n",
       "      <td>50000005</td>\n",
       "    </tr>\n",
       "  </tbody>\n",
       "</table>\n",
       "</div>"
      ],
      "text/plain": [
       "      ctg3        id  parent_id\n",
       "80  수영복/용품  50000140   50000005"
      ]
     },
     "execution_count": 287,
     "metadata": {},
     "output_type": "execute_result"
    }
   ],
   "source": [
    "ctg3[ctg3['parent_id']==50000005]"
   ]
  },
  {
   "cell_type": "code",
   "execution_count": 288,
   "metadata": {},
   "outputs": [],
   "source": [
    "swim = list(ctg3[ctg3['parent_id']==50000005].iloc[0])"
   ]
  },
  {
   "cell_type": "code",
   "execution_count": 289,
   "metadata": {},
   "outputs": [],
   "source": [
    "ctg2.loc[205] = swim"
   ]
  },
  {
   "cell_type": "code",
   "execution_count": 290,
   "metadata": {},
   "outputs": [
    {
     "data": {
      "text/plain": [
       "ctg2           수영복/용품\n",
       "id           50000140\n",
       "parent_id    50000005\n",
       "Name: 205, dtype: object"
      ]
     },
     "execution_count": 290,
     "metadata": {},
     "output_type": "execute_result"
    }
   ],
   "source": [
    "ctg2.loc[205]"
   ]
  },
  {
   "cell_type": "code",
   "execution_count": 291,
   "metadata": {},
   "outputs": [],
   "source": [
    "ctg3 = ctg3[ctg3['ctg3'] != '수영복/용품']"
   ]
  },
  {
   "cell_type": "code",
   "execution_count": 292,
   "metadata": {},
   "outputs": [
    {
     "data": {
      "text/plain": [
       "ctg3             코디세트\n",
       "id           50006828\n",
       "parent_id    50000171\n",
       "Name: 81, dtype: object"
      ]
     },
     "execution_count": 292,
     "metadata": {},
     "output_type": "execute_result"
    }
   ],
   "source": [
    "ctg3.iloc[80]"
   ]
  },
  {
   "cell_type": "code",
   "execution_count": 293,
   "metadata": {},
   "outputs": [
    {
     "data": {
      "text/plain": [
       "1814"
      ]
     },
     "execution_count": 293,
     "metadata": {},
     "output_type": "execute_result"
    }
   ],
   "source": [
    "len(ctg3)"
   ]
  },
  {
   "cell_type": "markdown",
   "metadata": {},
   "source": [
    "## ctg2 옆에 ctg1 이름 붙이기"
   ]
  },
  {
   "cell_type": "code",
   "execution_count": 294,
   "metadata": {},
   "outputs": [],
   "source": [
    "ctg1dict = dict(zip(ctg1['id'],ctg1['ctg1']))"
   ]
  },
  {
   "cell_type": "code",
   "execution_count": 295,
   "metadata": {},
   "outputs": [
    {
     "data": {
      "text/plain": [
       "'패션의류'"
      ]
     },
     "execution_count": 295,
     "metadata": {},
     "output_type": "execute_result"
    }
   ],
   "source": [
    "ctg1dict[50000000]"
   ]
  },
  {
   "cell_type": "code",
   "execution_count": 296,
   "metadata": {},
   "outputs": [],
   "source": [
    "ctg1forctg2 = []\n",
    "\n",
    "for i in ctg2['parent_id']:\n",
    "    ctg1forctg2.append(ctg1dict[i])\n",
    "\n",
    "ctg2['ctg1'] = ctg1forctg2 \n",
    "    \n",
    "    \n",
    "    "
   ]
  },
  {
   "cell_type": "code",
   "execution_count": 297,
   "metadata": {},
   "outputs": [
    {
     "data": {
      "text/html": [
       "<div>\n",
       "<style scoped>\n",
       "    .dataframe tbody tr th:only-of-type {\n",
       "        vertical-align: middle;\n",
       "    }\n",
       "\n",
       "    .dataframe tbody tr th {\n",
       "        vertical-align: top;\n",
       "    }\n",
       "\n",
       "    .dataframe thead th {\n",
       "        text-align: right;\n",
       "    }\n",
       "</style>\n",
       "<table border=\"1\" class=\"dataframe\">\n",
       "  <thead>\n",
       "    <tr style=\"text-align: right;\">\n",
       "      <th></th>\n",
       "      <th>ctg2</th>\n",
       "      <th>id</th>\n",
       "      <th>parent_id</th>\n",
       "      <th>ctg1</th>\n",
       "    </tr>\n",
       "  </thead>\n",
       "  <tbody>\n",
       "    <tr>\n",
       "      <th>0</th>\n",
       "      <td>여성의류</td>\n",
       "      <td>50000167</td>\n",
       "      <td>50000000</td>\n",
       "      <td>패션의류</td>\n",
       "    </tr>\n",
       "    <tr>\n",
       "      <th>1</th>\n",
       "      <td>여성언더웨어/잠옷</td>\n",
       "      <td>50000168</td>\n",
       "      <td>50000000</td>\n",
       "      <td>패션의류</td>\n",
       "    </tr>\n",
       "    <tr>\n",
       "      <th>2</th>\n",
       "      <td>남성의류</td>\n",
       "      <td>50000169</td>\n",
       "      <td>50000000</td>\n",
       "      <td>패션의류</td>\n",
       "    </tr>\n",
       "    <tr>\n",
       "      <th>3</th>\n",
       "      <td>남성언더웨어/잠옷</td>\n",
       "      <td>50000170</td>\n",
       "      <td>50000000</td>\n",
       "      <td>패션의류</td>\n",
       "    </tr>\n",
       "    <tr>\n",
       "      <th>4</th>\n",
       "      <td>아동의류</td>\n",
       "      <td>50000171</td>\n",
       "      <td>50000000</td>\n",
       "      <td>패션의류</td>\n",
       "    </tr>\n",
       "  </tbody>\n",
       "</table>\n",
       "</div>"
      ],
      "text/plain": [
       "        ctg2        id  parent_id  ctg1\n",
       "0       여성의류  50000167   50000000  패션의류\n",
       "1  여성언더웨어/잠옷  50000168   50000000  패션의류\n",
       "2       남성의류  50000169   50000000  패션의류\n",
       "3  남성언더웨어/잠옷  50000170   50000000  패션의류\n",
       "4       아동의류  50000171   50000000  패션의류"
      ]
     },
     "execution_count": 297,
     "metadata": {},
     "output_type": "execute_result"
    }
   ],
   "source": [
    "ctg2.head()"
   ]
  },
  {
   "cell_type": "code",
   "execution_count": 298,
   "metadata": {},
   "outputs": [],
   "source": [
    "ctg2.to_csv('ctg2_final.csv',index=False,index_label=False)"
   ]
  },
  {
   "cell_type": "markdown",
   "metadata": {},
   "source": [
    "# ctg3 옆에 ctg2 붙이기"
   ]
  },
  {
   "cell_type": "code",
   "execution_count": 299,
   "metadata": {},
   "outputs": [
    {
     "data": {
      "text/plain": [
       "194"
      ]
     },
     "execution_count": 299,
     "metadata": {},
     "output_type": "execute_result"
    }
   ],
   "source": [
    "ctg3['parent_id'].nunique()"
   ]
  },
  {
   "cell_type": "code",
   "execution_count": 300,
   "metadata": {},
   "outputs": [],
   "source": [
    "ctg2dict = dict(zip(ctg2['id'],ctg2['ctg2']))"
   ]
  },
  {
   "cell_type": "code",
   "execution_count": 301,
   "metadata": {},
   "outputs": [
    {
     "name": "stdout",
     "output_type": "stream",
     "text": [
      "50000892\n",
      "50000943\n",
      "50000933\n",
      "50006808\n",
      "50006808\n",
      "50006808\n",
      "50006808\n",
      "50006808\n",
      "50006808\n",
      "50006808\n",
      "50006808\n"
     ]
    }
   ],
   "source": [
    "ctg2forctg3 = []\n",
    "\n",
    "for i in ctg3['parent_id']:\n",
    "    try:\n",
    "        ctg2forctg3.append(ctg2dict[i])\n",
    "    except:\n",
    "        print(i)\n",
    "    "
   ]
  },
  {
   "cell_type": "code",
   "execution_count": 302,
   "metadata": {},
   "outputs": [
    {
     "data": {
      "text/html": [
       "<div>\n",
       "<style scoped>\n",
       "    .dataframe tbody tr th:only-of-type {\n",
       "        vertical-align: middle;\n",
       "    }\n",
       "\n",
       "    .dataframe tbody tr th {\n",
       "        vertical-align: top;\n",
       "    }\n",
       "\n",
       "    .dataframe thead th {\n",
       "        text-align: right;\n",
       "    }\n",
       "</style>\n",
       "<table border=\"1\" class=\"dataframe\">\n",
       "  <thead>\n",
       "    <tr style=\"text-align: right;\">\n",
       "      <th></th>\n",
       "      <th>ctg3</th>\n",
       "      <th>id</th>\n",
       "      <th>parent_id</th>\n",
       "    </tr>\n",
       "  </thead>\n",
       "  <tbody>\n",
       "    <tr>\n",
       "      <th>1204</th>\n",
       "      <td>밥/죽</td>\n",
       "      <td>50006809</td>\n",
       "      <td>50006808</td>\n",
       "    </tr>\n",
       "    <tr>\n",
       "      <th>1205</th>\n",
       "      <td>찌개/국</td>\n",
       "      <td>50006810</td>\n",
       "      <td>50006808</td>\n",
       "    </tr>\n",
       "    <tr>\n",
       "      <th>1206</th>\n",
       "      <td>면/파스타</td>\n",
       "      <td>50006811</td>\n",
       "      <td>50006808</td>\n",
       "    </tr>\n",
       "    <tr>\n",
       "      <th>1207</th>\n",
       "      <td>구이</td>\n",
       "      <td>50006812</td>\n",
       "      <td>50006808</td>\n",
       "    </tr>\n",
       "    <tr>\n",
       "      <th>1208</th>\n",
       "      <td>볶음/튀김</td>\n",
       "      <td>50006813</td>\n",
       "      <td>50006808</td>\n",
       "    </tr>\n",
       "    <tr>\n",
       "      <th>1209</th>\n",
       "      <td>조림/찜</td>\n",
       "      <td>50006814</td>\n",
       "      <td>50006808</td>\n",
       "    </tr>\n",
       "    <tr>\n",
       "      <th>1210</th>\n",
       "      <td>간식/디저트</td>\n",
       "      <td>50006815</td>\n",
       "      <td>50006808</td>\n",
       "    </tr>\n",
       "    <tr>\n",
       "      <th>1211</th>\n",
       "      <td>세트요리</td>\n",
       "      <td>50006816</td>\n",
       "      <td>50006808</td>\n",
       "    </tr>\n",
       "  </tbody>\n",
       "</table>\n",
       "</div>"
      ],
      "text/plain": [
       "        ctg3        id  parent_id\n",
       "1204     밥/죽  50006809   50006808\n",
       "1205    찌개/국  50006810   50006808\n",
       "1206   면/파스타  50006811   50006808\n",
       "1207      구이  50006812   50006808\n",
       "1208   볶음/튀김  50006813   50006808\n",
       "1209    조림/찜  50006814   50006808\n",
       "1210  간식/디저트  50006815   50006808\n",
       "1211    세트요리  50006816   50006808"
      ]
     },
     "execution_count": 302,
     "metadata": {},
     "output_type": "execute_result"
    }
   ],
   "source": [
    "ctg3[ctg3['parent_id']==50006808]"
   ]
  },
  {
   "cell_type": "code",
   "execution_count": 303,
   "metadata": {},
   "outputs": [
    {
     "data": {
      "text/html": [
       "<div>\n",
       "<style scoped>\n",
       "    .dataframe tbody tr th:only-of-type {\n",
       "        vertical-align: middle;\n",
       "    }\n",
       "\n",
       "    .dataframe tbody tr th {\n",
       "        vertical-align: top;\n",
       "    }\n",
       "\n",
       "    .dataframe thead th {\n",
       "        text-align: right;\n",
       "    }\n",
       "</style>\n",
       "<table border=\"1\" class=\"dataframe\">\n",
       "  <thead>\n",
       "    <tr style=\"text-align: right;\">\n",
       "      <th></th>\n",
       "      <th>ctg3</th>\n",
       "      <th>id</th>\n",
       "      <th>parent_id</th>\n",
       "    </tr>\n",
       "  </thead>\n",
       "  <tbody>\n",
       "    <tr>\n",
       "      <th>727</th>\n",
       "      <td>시트지</td>\n",
       "      <td>50003913</td>\n",
       "      <td>50000933</td>\n",
       "    </tr>\n",
       "  </tbody>\n",
       "</table>\n",
       "</div>"
      ],
      "text/plain": [
       "    ctg3        id  parent_id\n",
       "727  시트지  50003913   50000933"
      ]
     },
     "execution_count": 303,
     "metadata": {},
     "output_type": "execute_result"
    }
   ],
   "source": [
    "ctg3[ctg3['parent_id']==50000933]"
   ]
  },
  {
   "cell_type": "code",
   "execution_count": 304,
   "metadata": {},
   "outputs": [
    {
     "data": {
      "text/html": [
       "<div>\n",
       "<style scoped>\n",
       "    .dataframe tbody tr th:only-of-type {\n",
       "        vertical-align: middle;\n",
       "    }\n",
       "\n",
       "    .dataframe tbody tr th {\n",
       "        vertical-align: top;\n",
       "    }\n",
       "\n",
       "    .dataframe thead th {\n",
       "        text-align: right;\n",
       "    }\n",
       "</style>\n",
       "<table border=\"1\" class=\"dataframe\">\n",
       "  <thead>\n",
       "    <tr style=\"text-align: right;\">\n",
       "      <th></th>\n",
       "      <th>ctg3</th>\n",
       "      <th>id</th>\n",
       "      <th>parent_id</th>\n",
       "    </tr>\n",
       "  </thead>\n",
       "  <tbody>\n",
       "    <tr>\n",
       "      <th>724</th>\n",
       "      <td>몰딩</td>\n",
       "      <td>50004081</td>\n",
       "      <td>50000943</td>\n",
       "    </tr>\n",
       "  </tbody>\n",
       "</table>\n",
       "</div>"
      ],
      "text/plain": [
       "    ctg3        id  parent_id\n",
       "724   몰딩  50004081   50000943"
      ]
     },
     "execution_count": 304,
     "metadata": {},
     "output_type": "execute_result"
    }
   ],
   "source": [
    "ctg3[ctg3['parent_id']==50000943]\n"
   ]
  },
  {
   "cell_type": "code",
   "execution_count": 305,
   "metadata": {},
   "outputs": [
    {
     "data": {
      "text/html": [
       "<div>\n",
       "<style scoped>\n",
       "    .dataframe tbody tr th:only-of-type {\n",
       "        vertical-align: middle;\n",
       "    }\n",
       "\n",
       "    .dataframe tbody tr th {\n",
       "        vertical-align: top;\n",
       "    }\n",
       "\n",
       "    .dataframe thead th {\n",
       "        text-align: right;\n",
       "    }\n",
       "</style>\n",
       "<table border=\"1\" class=\"dataframe\">\n",
       "  <thead>\n",
       "    <tr style=\"text-align: right;\">\n",
       "      <th></th>\n",
       "      <th>ctg3</th>\n",
       "      <th>id</th>\n",
       "      <th>parent_id</th>\n",
       "    </tr>\n",
       "  </thead>\n",
       "  <tbody>\n",
       "    <tr>\n",
       "      <th>678</th>\n",
       "      <td>와인랙</td>\n",
       "      <td>50004801</td>\n",
       "      <td>50000892</td>\n",
       "    </tr>\n",
       "  </tbody>\n",
       "</table>\n",
       "</div>"
      ],
      "text/plain": [
       "    ctg3        id  parent_id\n",
       "678  와인랙  50004801   50000892"
      ]
     },
     "execution_count": 305,
     "metadata": {},
     "output_type": "execute_result"
    }
   ],
   "source": [
    "ctg3[ctg3['parent_id']==50000892]"
   ]
  },
  {
   "cell_type": "code",
   "execution_count": 306,
   "metadata": {},
   "outputs": [],
   "source": [
    "ctg4 = ctg3.loc[[678,724,727,1204,1205,1206,1207,1208,1209,1210,1211]]"
   ]
  },
  {
   "cell_type": "code",
   "execution_count": 307,
   "metadata": {},
   "outputs": [
    {
     "data": {
      "text/html": [
       "<div>\n",
       "<style scoped>\n",
       "    .dataframe tbody tr th:only-of-type {\n",
       "        vertical-align: middle;\n",
       "    }\n",
       "\n",
       "    .dataframe tbody tr th {\n",
       "        vertical-align: top;\n",
       "    }\n",
       "\n",
       "    .dataframe thead th {\n",
       "        text-align: right;\n",
       "    }\n",
       "</style>\n",
       "<table border=\"1\" class=\"dataframe\">\n",
       "  <thead>\n",
       "    <tr style=\"text-align: right;\">\n",
       "      <th></th>\n",
       "      <th>ctg3</th>\n",
       "      <th>id</th>\n",
       "      <th>parent_id</th>\n",
       "    </tr>\n",
       "  </thead>\n",
       "  <tbody>\n",
       "    <tr>\n",
       "      <th>678</th>\n",
       "      <td>와인랙</td>\n",
       "      <td>50004801</td>\n",
       "      <td>50000892</td>\n",
       "    </tr>\n",
       "    <tr>\n",
       "      <th>724</th>\n",
       "      <td>몰딩</td>\n",
       "      <td>50004081</td>\n",
       "      <td>50000943</td>\n",
       "    </tr>\n",
       "    <tr>\n",
       "      <th>727</th>\n",
       "      <td>시트지</td>\n",
       "      <td>50003913</td>\n",
       "      <td>50000933</td>\n",
       "    </tr>\n",
       "    <tr>\n",
       "      <th>1204</th>\n",
       "      <td>밥/죽</td>\n",
       "      <td>50006809</td>\n",
       "      <td>50006808</td>\n",
       "    </tr>\n",
       "    <tr>\n",
       "      <th>1205</th>\n",
       "      <td>찌개/국</td>\n",
       "      <td>50006810</td>\n",
       "      <td>50006808</td>\n",
       "    </tr>\n",
       "    <tr>\n",
       "      <th>1206</th>\n",
       "      <td>면/파스타</td>\n",
       "      <td>50006811</td>\n",
       "      <td>50006808</td>\n",
       "    </tr>\n",
       "    <tr>\n",
       "      <th>1207</th>\n",
       "      <td>구이</td>\n",
       "      <td>50006812</td>\n",
       "      <td>50006808</td>\n",
       "    </tr>\n",
       "    <tr>\n",
       "      <th>1208</th>\n",
       "      <td>볶음/튀김</td>\n",
       "      <td>50006813</td>\n",
       "      <td>50006808</td>\n",
       "    </tr>\n",
       "    <tr>\n",
       "      <th>1209</th>\n",
       "      <td>조림/찜</td>\n",
       "      <td>50006814</td>\n",
       "      <td>50006808</td>\n",
       "    </tr>\n",
       "    <tr>\n",
       "      <th>1210</th>\n",
       "      <td>간식/디저트</td>\n",
       "      <td>50006815</td>\n",
       "      <td>50006808</td>\n",
       "    </tr>\n",
       "    <tr>\n",
       "      <th>1211</th>\n",
       "      <td>세트요리</td>\n",
       "      <td>50006816</td>\n",
       "      <td>50006808</td>\n",
       "    </tr>\n",
       "  </tbody>\n",
       "</table>\n",
       "</div>"
      ],
      "text/plain": [
       "        ctg3        id  parent_id\n",
       "678      와인랙  50004801   50000892\n",
       "724       몰딩  50004081   50000943\n",
       "727      시트지  50003913   50000933\n",
       "1204     밥/죽  50006809   50006808\n",
       "1205    찌개/국  50006810   50006808\n",
       "1206   면/파스타  50006811   50006808\n",
       "1207      구이  50006812   50006808\n",
       "1208   볶음/튀김  50006813   50006808\n",
       "1209    조림/찜  50006814   50006808\n",
       "1210  간식/디저트  50006815   50006808\n",
       "1211    세트요리  50006816   50006808"
      ]
     },
     "execution_count": 307,
     "metadata": {},
     "output_type": "execute_result"
    }
   ],
   "source": [
    "ctg4"
   ]
  },
  {
   "cell_type": "code",
   "execution_count": 308,
   "metadata": {},
   "outputs": [],
   "source": [
    "for i in [50000892,50000943,50000933,50006808]:\n",
    "    ctg3 = ctg3[ctg3['parent_id'] != i]\n",
    "\n",
    "#ctg3[ctg3['parent_id']!=[i for i in [50000892,50000943]]]"
   ]
  },
  {
   "cell_type": "code",
   "execution_count": 309,
   "metadata": {},
   "outputs": [
    {
     "data": {
      "text/html": [
       "<div>\n",
       "<style scoped>\n",
       "    .dataframe tbody tr th:only-of-type {\n",
       "        vertical-align: middle;\n",
       "    }\n",
       "\n",
       "    .dataframe tbody tr th {\n",
       "        vertical-align: top;\n",
       "    }\n",
       "\n",
       "    .dataframe thead th {\n",
       "        text-align: right;\n",
       "    }\n",
       "</style>\n",
       "<table border=\"1\" class=\"dataframe\">\n",
       "  <thead>\n",
       "    <tr style=\"text-align: right;\">\n",
       "      <th></th>\n",
       "      <th>ctg3</th>\n",
       "      <th>id</th>\n",
       "      <th>parent_id</th>\n",
       "    </tr>\n",
       "  </thead>\n",
       "  <tbody>\n",
       "  </tbody>\n",
       "</table>\n",
       "</div>"
      ],
      "text/plain": [
       "Empty DataFrame\n",
       "Columns: [ctg3, id, parent_id]\n",
       "Index: []"
      ]
     },
     "execution_count": 309,
     "metadata": {},
     "output_type": "execute_result"
    }
   ],
   "source": [
    "ctg3[ctg3['ctg3']=='몰딩']"
   ]
  },
  {
   "cell_type": "code",
   "execution_count": 310,
   "metadata": {},
   "outputs": [
    {
     "data": {
      "text/html": [
       "<div>\n",
       "<style scoped>\n",
       "    .dataframe tbody tr th:only-of-type {\n",
       "        vertical-align: middle;\n",
       "    }\n",
       "\n",
       "    .dataframe tbody tr th {\n",
       "        vertical-align: top;\n",
       "    }\n",
       "\n",
       "    .dataframe thead th {\n",
       "        text-align: right;\n",
       "    }\n",
       "</style>\n",
       "<table border=\"1\" class=\"dataframe\">\n",
       "  <thead>\n",
       "    <tr style=\"text-align: right;\">\n",
       "      <th></th>\n",
       "      <th>ctg3</th>\n",
       "      <th>id</th>\n",
       "      <th>parent_id</th>\n",
       "    </tr>\n",
       "  </thead>\n",
       "  <tbody>\n",
       "  </tbody>\n",
       "</table>\n",
       "</div>"
      ],
      "text/plain": [
       "Empty DataFrame\n",
       "Columns: [ctg3, id, parent_id]\n",
       "Index: []"
      ]
     },
     "execution_count": 310,
     "metadata": {},
     "output_type": "execute_result"
    }
   ],
   "source": [
    "ctg3[ctg3['ctg3']=='와인랙']"
   ]
  },
  {
   "cell_type": "code",
   "execution_count": 311,
   "metadata": {},
   "outputs": [
    {
     "data": {
      "text/html": [
       "<div>\n",
       "<style scoped>\n",
       "    .dataframe tbody tr th:only-of-type {\n",
       "        vertical-align: middle;\n",
       "    }\n",
       "\n",
       "    .dataframe tbody tr th {\n",
       "        vertical-align: top;\n",
       "    }\n",
       "\n",
       "    .dataframe thead th {\n",
       "        text-align: right;\n",
       "    }\n",
       "</style>\n",
       "<table border=\"1\" class=\"dataframe\">\n",
       "  <thead>\n",
       "    <tr style=\"text-align: right;\">\n",
       "      <th></th>\n",
       "      <th>ctg3</th>\n",
       "      <th>id</th>\n",
       "      <th>parent_id</th>\n",
       "    </tr>\n",
       "  </thead>\n",
       "  <tbody>\n",
       "  </tbody>\n",
       "</table>\n",
       "</div>"
      ],
      "text/plain": [
       "Empty DataFrame\n",
       "Columns: [ctg3, id, parent_id]\n",
       "Index: []"
      ]
     },
     "execution_count": 311,
     "metadata": {},
     "output_type": "execute_result"
    }
   ],
   "source": [
    "ctg3[ctg3['parent_id']==50000892]"
   ]
  },
  {
   "cell_type": "code",
   "execution_count": 312,
   "metadata": {},
   "outputs": [],
   "source": [
    "ctg2forctg3 = []\n",
    "\n",
    "for i in ctg3['parent_id']:\n",
    "    ctg2forctg3.append(ctg2dict[i])\n",
    "\n",
    "ctg3['ctg2'] = ctg2forctg3 \n"
   ]
  },
  {
   "cell_type": "code",
   "execution_count": 313,
   "metadata": {},
   "outputs": [
    {
     "data": {
      "text/html": [
       "<div>\n",
       "<style scoped>\n",
       "    .dataframe tbody tr th:only-of-type {\n",
       "        vertical-align: middle;\n",
       "    }\n",
       "\n",
       "    .dataframe tbody tr th {\n",
       "        vertical-align: top;\n",
       "    }\n",
       "\n",
       "    .dataframe thead th {\n",
       "        text-align: right;\n",
       "    }\n",
       "</style>\n",
       "<table border=\"1\" class=\"dataframe\">\n",
       "  <thead>\n",
       "    <tr style=\"text-align: right;\">\n",
       "      <th></th>\n",
       "      <th>ctg3</th>\n",
       "      <th>id</th>\n",
       "      <th>parent_id</th>\n",
       "      <th>ctg2</th>\n",
       "    </tr>\n",
       "  </thead>\n",
       "  <tbody>\n",
       "    <tr>\n",
       "      <th>0</th>\n",
       "      <td>니트/스웨터</td>\n",
       "      <td>50000805</td>\n",
       "      <td>50000167</td>\n",
       "      <td>여성의류</td>\n",
       "    </tr>\n",
       "    <tr>\n",
       "      <th>1</th>\n",
       "      <td>카디건</td>\n",
       "      <td>50000806</td>\n",
       "      <td>50000167</td>\n",
       "      <td>여성의류</td>\n",
       "    </tr>\n",
       "    <tr>\n",
       "      <th>2</th>\n",
       "      <td>원피스</td>\n",
       "      <td>50000807</td>\n",
       "      <td>50000167</td>\n",
       "      <td>여성의류</td>\n",
       "    </tr>\n",
       "    <tr>\n",
       "      <th>3</th>\n",
       "      <td>티셔츠</td>\n",
       "      <td>50000803</td>\n",
       "      <td>50000167</td>\n",
       "      <td>여성의류</td>\n",
       "    </tr>\n",
       "    <tr>\n",
       "      <th>4</th>\n",
       "      <td>블라우스/셔츠</td>\n",
       "      <td>50000804</td>\n",
       "      <td>50000167</td>\n",
       "      <td>여성의류</td>\n",
       "    </tr>\n",
       "  </tbody>\n",
       "</table>\n",
       "</div>"
      ],
      "text/plain": [
       "      ctg3        id  parent_id  ctg2\n",
       "0   니트/스웨터  50000805   50000167  여성의류\n",
       "1      카디건  50000806   50000167  여성의류\n",
       "2      원피스  50000807   50000167  여성의류\n",
       "3      티셔츠  50000803   50000167  여성의류\n",
       "4  블라우스/셔츠  50000804   50000167  여성의류"
      ]
     },
     "execution_count": 313,
     "metadata": {},
     "output_type": "execute_result"
    }
   ],
   "source": [
    "ctg3.head()"
   ]
  },
  {
   "cell_type": "code",
   "execution_count": 242,
   "metadata": {},
   "outputs": [],
   "source": [
    "p_ctg2dict2 = dict(zip(ctg2['id'],ctg2['parent_id']))"
   ]
  },
  {
   "cell_type": "code",
   "execution_count": 245,
   "metadata": {},
   "outputs": [
    {
     "data": {
      "text/plain": [
       "50000000"
      ]
     },
     "execution_count": 245,
     "metadata": {},
     "output_type": "execute_result"
    }
   ],
   "source": [
    "p_ctg2dict2[50000167]"
   ]
  },
  {
   "cell_type": "code",
   "execution_count": 247,
   "metadata": {},
   "outputs": [],
   "source": [
    "ctg1forctg3 = []\n",
    "\n",
    "for i in ctg3['parent_id']:\n",
    "    ctg1forctg3.append(p_ctg2dict2[i])\n",
    "\n",
    "ctg3['ctg1_id'] = ctg1forctg3 "
   ]
  },
  {
   "cell_type": "code",
   "execution_count": 248,
   "metadata": {},
   "outputs": [
    {
     "data": {
      "text/html": [
       "<div>\n",
       "<style scoped>\n",
       "    .dataframe tbody tr th:only-of-type {\n",
       "        vertical-align: middle;\n",
       "    }\n",
       "\n",
       "    .dataframe tbody tr th {\n",
       "        vertical-align: top;\n",
       "    }\n",
       "\n",
       "    .dataframe thead th {\n",
       "        text-align: right;\n",
       "    }\n",
       "</style>\n",
       "<table border=\"1\" class=\"dataframe\">\n",
       "  <thead>\n",
       "    <tr style=\"text-align: right;\">\n",
       "      <th></th>\n",
       "      <th>ctg3</th>\n",
       "      <th>id</th>\n",
       "      <th>parent_id</th>\n",
       "      <th>ctg2</th>\n",
       "      <th>ctg1_id</th>\n",
       "    </tr>\n",
       "  </thead>\n",
       "  <tbody>\n",
       "    <tr>\n",
       "      <th>0</th>\n",
       "      <td>니트/스웨터</td>\n",
       "      <td>50000805</td>\n",
       "      <td>50000167</td>\n",
       "      <td>여성의류</td>\n",
       "      <td>50000000</td>\n",
       "    </tr>\n",
       "    <tr>\n",
       "      <th>1</th>\n",
       "      <td>카디건</td>\n",
       "      <td>50000806</td>\n",
       "      <td>50000167</td>\n",
       "      <td>여성의류</td>\n",
       "      <td>50000000</td>\n",
       "    </tr>\n",
       "    <tr>\n",
       "      <th>2</th>\n",
       "      <td>원피스</td>\n",
       "      <td>50000807</td>\n",
       "      <td>50000167</td>\n",
       "      <td>여성의류</td>\n",
       "      <td>50000000</td>\n",
       "    </tr>\n",
       "    <tr>\n",
       "      <th>3</th>\n",
       "      <td>티셔츠</td>\n",
       "      <td>50000803</td>\n",
       "      <td>50000167</td>\n",
       "      <td>여성의류</td>\n",
       "      <td>50000000</td>\n",
       "    </tr>\n",
       "    <tr>\n",
       "      <th>4</th>\n",
       "      <td>블라우스/셔츠</td>\n",
       "      <td>50000804</td>\n",
       "      <td>50000167</td>\n",
       "      <td>여성의류</td>\n",
       "      <td>50000000</td>\n",
       "    </tr>\n",
       "  </tbody>\n",
       "</table>\n",
       "</div>"
      ],
      "text/plain": [
       "      ctg3        id  parent_id  ctg2   ctg1_id\n",
       "0   니트/스웨터  50000805   50000167  여성의류  50000000\n",
       "1      카디건  50000806   50000167  여성의류  50000000\n",
       "2      원피스  50000807   50000167  여성의류  50000000\n",
       "3      티셔츠  50000803   50000167  여성의류  50000000\n",
       "4  블라우스/셔츠  50000804   50000167  여성의류  50000000"
      ]
     },
     "execution_count": 248,
     "metadata": {},
     "output_type": "execute_result"
    }
   ],
   "source": [
    "ctg3.head()"
   ]
  },
  {
   "cell_type": "code",
   "execution_count": 249,
   "metadata": {},
   "outputs": [],
   "source": [
    "ctg1dict = dict(zip(ctg1['id'],ctg1['ctg1']))"
   ]
  },
  {
   "cell_type": "code",
   "execution_count": 250,
   "metadata": {},
   "outputs": [],
   "source": [
    "ctg1forctg3 = []\n",
    "\n",
    "for i in ctg3['ctg1_id']:\n",
    "    ctg1forctg3.append(ctg1dict[i])\n",
    "\n",
    "ctg3['ctg1'] = ctg1forctg3 \n",
    "    "
   ]
  },
  {
   "cell_type": "code",
   "execution_count": 251,
   "metadata": {},
   "outputs": [
    {
     "data": {
      "text/html": [
       "<div>\n",
       "<style scoped>\n",
       "    .dataframe tbody tr th:only-of-type {\n",
       "        vertical-align: middle;\n",
       "    }\n",
       "\n",
       "    .dataframe tbody tr th {\n",
       "        vertical-align: top;\n",
       "    }\n",
       "\n",
       "    .dataframe thead th {\n",
       "        text-align: right;\n",
       "    }\n",
       "</style>\n",
       "<table border=\"1\" class=\"dataframe\">\n",
       "  <thead>\n",
       "    <tr style=\"text-align: right;\">\n",
       "      <th></th>\n",
       "      <th>ctg3</th>\n",
       "      <th>id</th>\n",
       "      <th>parent_id</th>\n",
       "      <th>ctg2</th>\n",
       "      <th>ctg1_id</th>\n",
       "      <th>ctg1</th>\n",
       "    </tr>\n",
       "  </thead>\n",
       "  <tbody>\n",
       "    <tr>\n",
       "      <th>0</th>\n",
       "      <td>니트/스웨터</td>\n",
       "      <td>50000805</td>\n",
       "      <td>50000167</td>\n",
       "      <td>여성의류</td>\n",
       "      <td>50000000</td>\n",
       "      <td>패션의류</td>\n",
       "    </tr>\n",
       "    <tr>\n",
       "      <th>1</th>\n",
       "      <td>카디건</td>\n",
       "      <td>50000806</td>\n",
       "      <td>50000167</td>\n",
       "      <td>여성의류</td>\n",
       "      <td>50000000</td>\n",
       "      <td>패션의류</td>\n",
       "    </tr>\n",
       "    <tr>\n",
       "      <th>2</th>\n",
       "      <td>원피스</td>\n",
       "      <td>50000807</td>\n",
       "      <td>50000167</td>\n",
       "      <td>여성의류</td>\n",
       "      <td>50000000</td>\n",
       "      <td>패션의류</td>\n",
       "    </tr>\n",
       "    <tr>\n",
       "      <th>3</th>\n",
       "      <td>티셔츠</td>\n",
       "      <td>50000803</td>\n",
       "      <td>50000167</td>\n",
       "      <td>여성의류</td>\n",
       "      <td>50000000</td>\n",
       "      <td>패션의류</td>\n",
       "    </tr>\n",
       "    <tr>\n",
       "      <th>4</th>\n",
       "      <td>블라우스/셔츠</td>\n",
       "      <td>50000804</td>\n",
       "      <td>50000167</td>\n",
       "      <td>여성의류</td>\n",
       "      <td>50000000</td>\n",
       "      <td>패션의류</td>\n",
       "    </tr>\n",
       "  </tbody>\n",
       "</table>\n",
       "</div>"
      ],
      "text/plain": [
       "      ctg3        id  parent_id  ctg2   ctg1_id  ctg1\n",
       "0   니트/스웨터  50000805   50000167  여성의류  50000000  패션의류\n",
       "1      카디건  50000806   50000167  여성의류  50000000  패션의류\n",
       "2      원피스  50000807   50000167  여성의류  50000000  패션의류\n",
       "3      티셔츠  50000803   50000167  여성의류  50000000  패션의류\n",
       "4  블라우스/셔츠  50000804   50000167  여성의류  50000000  패션의류"
      ]
     },
     "execution_count": 251,
     "metadata": {},
     "output_type": "execute_result"
    }
   ],
   "source": [
    "ctg3.head()"
   ]
  },
  {
   "cell_type": "code",
   "execution_count": 252,
   "metadata": {},
   "outputs": [],
   "source": [
    "ctg3.columns=['ctg3','ctg3_id','ctg2_id','ctg2','ctg1_id','ctg1']"
   ]
  },
  {
   "cell_type": "code",
   "execution_count": 258,
   "metadata": {},
   "outputs": [],
   "source": [
    "my_order =['ctg3','ctg3_id','ctg2','ctg2_id','ctg1','ctg1_id']\n",
    "\n",
    "ctg3 = ctg3[my_order]"
   ]
  },
  {
   "cell_type": "code",
   "execution_count": 259,
   "metadata": {},
   "outputs": [
    {
     "data": {
      "text/html": [
       "<div>\n",
       "<style scoped>\n",
       "    .dataframe tbody tr th:only-of-type {\n",
       "        vertical-align: middle;\n",
       "    }\n",
       "\n",
       "    .dataframe tbody tr th {\n",
       "        vertical-align: top;\n",
       "    }\n",
       "\n",
       "    .dataframe thead th {\n",
       "        text-align: right;\n",
       "    }\n",
       "</style>\n",
       "<table border=\"1\" class=\"dataframe\">\n",
       "  <thead>\n",
       "    <tr style=\"text-align: right;\">\n",
       "      <th></th>\n",
       "      <th>ctg3</th>\n",
       "      <th>ctg3_id</th>\n",
       "      <th>ctg2</th>\n",
       "      <th>ctg2_id</th>\n",
       "      <th>ctg1</th>\n",
       "      <th>ctg1_id</th>\n",
       "    </tr>\n",
       "  </thead>\n",
       "  <tbody>\n",
       "    <tr>\n",
       "      <th>0</th>\n",
       "      <td>니트/스웨터</td>\n",
       "      <td>50000805</td>\n",
       "      <td>여성의류</td>\n",
       "      <td>50000167</td>\n",
       "      <td>패션의류</td>\n",
       "      <td>50000000</td>\n",
       "    </tr>\n",
       "    <tr>\n",
       "      <th>1</th>\n",
       "      <td>카디건</td>\n",
       "      <td>50000806</td>\n",
       "      <td>여성의류</td>\n",
       "      <td>50000167</td>\n",
       "      <td>패션의류</td>\n",
       "      <td>50000000</td>\n",
       "    </tr>\n",
       "    <tr>\n",
       "      <th>2</th>\n",
       "      <td>원피스</td>\n",
       "      <td>50000807</td>\n",
       "      <td>여성의류</td>\n",
       "      <td>50000167</td>\n",
       "      <td>패션의류</td>\n",
       "      <td>50000000</td>\n",
       "    </tr>\n",
       "    <tr>\n",
       "      <th>3</th>\n",
       "      <td>티셔츠</td>\n",
       "      <td>50000803</td>\n",
       "      <td>여성의류</td>\n",
       "      <td>50000167</td>\n",
       "      <td>패션의류</td>\n",
       "      <td>50000000</td>\n",
       "    </tr>\n",
       "    <tr>\n",
       "      <th>4</th>\n",
       "      <td>블라우스/셔츠</td>\n",
       "      <td>50000804</td>\n",
       "      <td>여성의류</td>\n",
       "      <td>50000167</td>\n",
       "      <td>패션의류</td>\n",
       "      <td>50000000</td>\n",
       "    </tr>\n",
       "  </tbody>\n",
       "</table>\n",
       "</div>"
      ],
      "text/plain": [
       "      ctg3   ctg3_id  ctg2   ctg2_id  ctg1   ctg1_id\n",
       "0   니트/스웨터  50000805  여성의류  50000167  패션의류  50000000\n",
       "1      카디건  50000806  여성의류  50000167  패션의류  50000000\n",
       "2      원피스  50000807  여성의류  50000167  패션의류  50000000\n",
       "3      티셔츠  50000803  여성의류  50000167  패션의류  50000000\n",
       "4  블라우스/셔츠  50000804  여성의류  50000167  패션의류  50000000"
      ]
     },
     "execution_count": 259,
     "metadata": {},
     "output_type": "execute_result"
    }
   ],
   "source": [
    "ctg3.head()"
   ]
  },
  {
   "cell_type": "code",
   "execution_count": 260,
   "metadata": {},
   "outputs": [],
   "source": [
    "ctg3.to_csv('ctg3_final.csv',index=False,index_label=False)"
   ]
  },
  {
   "cell_type": "markdown",
   "metadata": {},
   "source": [
    "\n",
    "-------\n",
    "------\n",
    "------\n",
    "------\n",
    "------"
   ]
  },
  {
   "cell_type": "code",
   "execution_count": 263,
   "metadata": {},
   "outputs": [
    {
     "data": {
      "text/plain": [
       "array(['여성의류', '수영', '여성언더웨어/잠옷', '남성의류', '남성언더웨어/잠옷', '아동의류',\n",
       "       '아동언더웨어/잠옷', '여성신발', '남성신발', '지갑', '여행용가방/소품', '신발용품', '여성가방',\n",
       "       '남성가방', '헤어액세서리', '모자', '패션소품', '주얼리', '순금', '장갑', '벨트', '베이비주얼리',\n",
       "       '양말', '선글라스/안경테', '시계', '스킨케어', '선케어', '클렌징', '베이스메이크업', '색조메이크업',\n",
       "       '뷰티소품', '마스크/팩', '네일케어', '향수', '바디케어', '헤어케어', '헤어스타일링', '남성화장품',\n",
       "       '휴대폰', '휴대폰 액세서리', '카메라/캠코더용품', '광학기기/용품', '영상가전', '계절가전', '음향가전',\n",
       "       '생활가전', '이미용가전', '자동차기기', 'PC', 'PC부품', 'PC액세서리', '모니터주변기기',\n",
       "       '태블릿PC액세서리', '노트북액세서리', '주방가전', '멀티미디어장비', '소프트웨어', '네트워크장비',\n",
       "       'PC주변기기', '학습기기', '저장장치', '게임기/타이틀', '침실가구', '거실가구', '주방가구',\n",
       "       '수납가구', '아동/주니어가구', '서재/사무용가구', '아웃도어가구', '캠핑', 'DIY자재/용품', '침구단품',\n",
       "       '침구세트', '카페트/러그', '커튼/블라인드', '홈데코', '솜류', '수예', '인테리어소품', '분유',\n",
       "       '기저귀', '물티슈', '이유식', '수유용품', '간식/건강식품', '유모차', '카시트', '외출용품',\n",
       "       '목욕용품', '스킨/바디용품', '위생/건강용품', '유아세제', '구강청결용품', '소독/살균용품', '안전용품',\n",
       "       '임산부용품', '유아침구', '이유식용품', '유아가구', '임부복', '출산/돌기념품', '신생아의류',\n",
       "       '유아의류', '완구/매트', '유아잡화', '인형', '수영복/용품', '교재/서적', '유아발육용품', '축산',\n",
       "       '건강식품', '수산', '농산물', '반찬', '김치', '음료', '가공식품', '다이어트식품', '과자',\n",
       "       '아이스크림/빙수', '냉동/간편조리식품', '전통주', '등산', '스포츠액세서리', '골프', '스키/보드',\n",
       "       '자전거', '낚시', '헬스', '오토바이/스쿠터', '스케이트/보드/롤러', '인라인스케이트', '요가/필라테스',\n",
       "       '축구', '야구', '농구', '배구', '탁구', '배드민턴', '스킨스쿠버', '검도', '테니스', '스쿼시',\n",
       "       '족구', '볼링', '댄스', '권투', '보호용품', '수련용품', '무술용품', '공구', '문구/사무용품',\n",
       "       '화방용품', '관상어용품', '수집품', '자동차용품', '악기', 'DVD', '음반', '반려동물', '종교',\n",
       "       '욕실용품', '세탁용품', '건강측정용품', '건강관리용품', '당뇨관리용품', '좌욕/좌훈용품', '주방용품',\n",
       "       '의료용품', '냉온/찜질용품', '재활운동용품', '눈건강용품', '실버용품', '물리치료/저주파용품',\n",
       "       '구강위생용품', '발건강용품', '생활용품', '안마용품', '수납/정리용품', '청소용품', '원예/식물',\n",
       "       '블루레이', '정원/원예용품', '공연/티켓', '꽃/케이크배달', '지류/카드상품권', '모바일쿠폰/상품권',\n",
       "       '레저이용권', '여행/항공권', 'e컨텐츠'], dtype=object)"
      ]
     },
     "execution_count": 263,
     "metadata": {},
     "output_type": "execute_result"
    }
   ],
   "source": [
    "ctg3['ctg2'].unique()"
   ]
  },
  {
   "cell_type": "code",
   "execution_count": 267,
   "metadata": {},
   "outputs": [
    {
     "data": {
      "text/plain": [
       "array(['여성의류', '수영', '여성언더웨어/잠옷', '남성의류', '남성언더웨어/잠옷', '아동의류',\n",
       "       '아동언더웨어/잠옷', '여성신발', '남성신발', '여성가방', '남성가방', '헤어액세서리', '모자',\n",
       "       '패션소품', '주얼리', '베이비주얼리', '선글라스/안경테', '스킨케어', '선케어', '클렌징', '뷰티소품',\n",
       "       '네일케어', '바디케어', '헤어케어', '남성화장품', '생활가전', '이미용가전', 'PC부품', '침실가구',\n",
       "       '거실가구', '수납가구', '아동/주니어가구', '서재/사무용가구', '캠핑', '인테리어소품', '물티슈',\n",
       "       '스킨/바디용품', '유아세제', '안전용품', '임부복', '유아의류', '유아잡화', '아이스크림/빙수',\n",
       "       '냉동/간편조리식품', '스키/보드', '야구', '배드민턴', '스킨스쿠버', '테니스', '권투', '보호용품',\n",
       "       '공구', '관상어용품', '자동차용품', 'DVD', '건강관리용품', '재활운동용품', '구강위생용품',\n",
       "       '블루레이', '모바일쿠폰/상품권'], dtype=object)"
      ]
     },
     "execution_count": 267,
     "metadata": {},
     "output_type": "execute_result"
    }
   ],
   "source": [
    "ctg3[ctg3.duplicated('ctg3',keep=False)]['ctg2'].unique()"
   ]
  },
  {
   "cell_type": "code",
   "execution_count": 262,
   "metadata": {},
   "outputs": [
    {
     "data": {
      "text/plain": [
       "0            여성의류\n",
       "1            여성의류\n",
       "2            여성의류\n",
       "3            여성의류\n",
       "4            여성의류\n",
       "5            여성의류\n",
       "6            여성의류\n",
       "7            여성의류\n",
       "8            여성의류\n",
       "9            여성의류\n",
       "10           여성의류\n",
       "11           여성의류\n",
       "12           여성의류\n",
       "13           여성의류\n",
       "14           여성의류\n",
       "15           여성의류\n",
       "16           여성의류\n",
       "17           여성의류\n",
       "18           여성의류\n",
       "19           여성의류\n",
       "20           여성의류\n",
       "21             수영\n",
       "22             수영\n",
       "23      여성언더웨어/잠옷\n",
       "24      여성언더웨어/잠옷\n",
       "25      여성언더웨어/잠옷\n",
       "26      여성언더웨어/잠옷\n",
       "27      여성언더웨어/잠옷\n",
       "28      여성언더웨어/잠옷\n",
       "29      여성언더웨어/잠옷\n",
       "          ...    \n",
       "1785    모바일쿠폰/상품권\n",
       "1786    모바일쿠폰/상품권\n",
       "1787    모바일쿠폰/상품권\n",
       "1788    모바일쿠폰/상품권\n",
       "1789    모바일쿠폰/상품권\n",
       "1790    모바일쿠폰/상품권\n",
       "1791        레저이용권\n",
       "1792        레저이용권\n",
       "1793        레저이용권\n",
       "1794        레저이용권\n",
       "1795        레저이용권\n",
       "1796        레저이용권\n",
       "1797        레저이용권\n",
       "1798        레저이용권\n",
       "1799        레저이용권\n",
       "1800        레저이용권\n",
       "1801       여행/항공권\n",
       "1802       여행/항공권\n",
       "1803       여행/항공권\n",
       "1804       여행/항공권\n",
       "1805       여행/항공권\n",
       "1806       여행/항공권\n",
       "1807       여행/항공권\n",
       "1808         e컨텐츠\n",
       "1809         e컨텐츠\n",
       "1810         e컨텐츠\n",
       "1811         e컨텐츠\n",
       "1812         e컨텐츠\n",
       "1813         e컨텐츠\n",
       "1814         가공식품\n",
       "Name: ctg2, Length: 1803, dtype: object"
      ]
     },
     "execution_count": 262,
     "metadata": {},
     "output_type": "execute_result"
    }
   ],
   "source": [
    "g = re.compile(r\"(여|남|유아|베이비|유아)\")\n",
    "kids_onepiece = []\n",
    "\n",
    "for ind, i in enumerate(search_op['KWD_NM']):\n",
    "    m = g.search(search_op.iloc[ind]['KWD_NM'])\n",
    "    if m:\n",
    "        kids_onepiece.append(1)\n",
    "    else:\n",
    "        kids_onepiece.append(0)"
   ]
  },
  {
   "cell_type": "code",
   "execution_count": null,
   "metadata": {},
   "outputs": [],
   "source": []
  }
 ],
 "metadata": {
  "kernelspec": {
   "display_name": "Python 3",
   "language": "python",
   "name": "python3"
  },
  "language_info": {
   "codemirror_mode": {
    "name": "ipython",
    "version": 3
   },
   "file_extension": ".py",
   "mimetype": "text/x-python",
   "name": "python",
   "nbconvert_exporter": "python",
   "pygments_lexer": "ipython3",
   "version": "3.6.6"
  },
  "toc": {
   "base_numbering": 1,
   "nav_menu": {},
   "number_sections": true,
   "sideBar": true,
   "skip_h1_title": false,
   "title_cell": "Table of Contents",
   "title_sidebar": "Contents",
   "toc_cell": false,
   "toc_position": {},
   "toc_section_display": true,
   "toc_window_display": false
  },
  "varInspector": {
   "cols": {
    "lenName": 16,
    "lenType": 16,
    "lenVar": 40
   },
   "kernels_config": {
    "python": {
     "delete_cmd_postfix": "",
     "delete_cmd_prefix": "del ",
     "library": "var_list.py",
     "varRefreshCmd": "print(var_dic_list())"
    },
    "r": {
     "delete_cmd_postfix": ") ",
     "delete_cmd_prefix": "rm(",
     "library": "var_list.r",
     "varRefreshCmd": "cat(var_dic_list()) "
    }
   },
   "types_to_exclude": [
    "module",
    "function",
    "builtin_function_or_method",
    "instance",
    "_Feature"
   ],
   "window_display": false
  }
 },
 "nbformat": 4,
 "nbformat_minor": 2
}
